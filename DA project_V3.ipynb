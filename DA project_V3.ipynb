{
 "cells": [
  {
   "cell_type": "code",
   "execution_count": 1,
   "id": "0d31859e",
   "metadata": {},
   "outputs": [],
   "source": [
    "import numpy as np\n",
    "import pandas as pd"
   ]
  },
  {
   "cell_type": "markdown",
   "id": "53b923e3",
   "metadata": {},
   "source": [
    "## Part1: Data Exploration"
   ]
  },
  {
   "cell_type": "markdown",
   "id": "e338f9bb",
   "metadata": {},
   "source": [
    "### Part 1.1: Understand the Raw Dataset"
   ]
  },
  {
   "cell_type": "code",
   "execution_count": 2,
   "id": "09613719",
   "metadata": {},
   "outputs": [],
   "source": [
    "mobile_df = pd.read_csv('train.csv') #has 2000"
   ]
  },
  {
   "cell_type": "code",
   "execution_count": 3,
   "id": "6d2cc1ff",
   "metadata": {},
   "outputs": [
    {
     "data": {
      "text/html": [
       "<div>\n",
       "<style scoped>\n",
       "    .dataframe tbody tr th:only-of-type {\n",
       "        vertical-align: middle;\n",
       "    }\n",
       "\n",
       "    .dataframe tbody tr th {\n",
       "        vertical-align: top;\n",
       "    }\n",
       "\n",
       "    .dataframe thead th {\n",
       "        text-align: right;\n",
       "    }\n",
       "</style>\n",
       "<table border=\"1\" class=\"dataframe\">\n",
       "  <thead>\n",
       "    <tr style=\"text-align: right;\">\n",
       "      <th></th>\n",
       "      <th>battery_power</th>\n",
       "      <th>blue</th>\n",
       "      <th>clock_speed</th>\n",
       "      <th>dual_sim</th>\n",
       "      <th>fc</th>\n",
       "      <th>four_g</th>\n",
       "      <th>int_memory</th>\n",
       "      <th>m_dep</th>\n",
       "      <th>mobile_wt</th>\n",
       "      <th>n_cores</th>\n",
       "      <th>...</th>\n",
       "      <th>px_height</th>\n",
       "      <th>px_width</th>\n",
       "      <th>ram</th>\n",
       "      <th>sc_h</th>\n",
       "      <th>sc_w</th>\n",
       "      <th>talk_time</th>\n",
       "      <th>three_g</th>\n",
       "      <th>touch_screen</th>\n",
       "      <th>wifi</th>\n",
       "      <th>price_range</th>\n",
       "    </tr>\n",
       "  </thead>\n",
       "  <tbody>\n",
       "    <tr>\n",
       "      <th>0</th>\n",
       "      <td>842</td>\n",
       "      <td>0</td>\n",
       "      <td>2.2</td>\n",
       "      <td>0</td>\n",
       "      <td>1</td>\n",
       "      <td>0</td>\n",
       "      <td>7</td>\n",
       "      <td>0.6</td>\n",
       "      <td>188</td>\n",
       "      <td>2</td>\n",
       "      <td>...</td>\n",
       "      <td>20</td>\n",
       "      <td>756</td>\n",
       "      <td>2549</td>\n",
       "      <td>9</td>\n",
       "      <td>7</td>\n",
       "      <td>19</td>\n",
       "      <td>0</td>\n",
       "      <td>0</td>\n",
       "      <td>1</td>\n",
       "      <td>1</td>\n",
       "    </tr>\n",
       "    <tr>\n",
       "      <th>1</th>\n",
       "      <td>1021</td>\n",
       "      <td>1</td>\n",
       "      <td>0.5</td>\n",
       "      <td>1</td>\n",
       "      <td>0</td>\n",
       "      <td>1</td>\n",
       "      <td>53</td>\n",
       "      <td>0.7</td>\n",
       "      <td>136</td>\n",
       "      <td>3</td>\n",
       "      <td>...</td>\n",
       "      <td>905</td>\n",
       "      <td>1988</td>\n",
       "      <td>2631</td>\n",
       "      <td>17</td>\n",
       "      <td>3</td>\n",
       "      <td>7</td>\n",
       "      <td>1</td>\n",
       "      <td>1</td>\n",
       "      <td>0</td>\n",
       "      <td>2</td>\n",
       "    </tr>\n",
       "    <tr>\n",
       "      <th>2</th>\n",
       "      <td>563</td>\n",
       "      <td>1</td>\n",
       "      <td>0.5</td>\n",
       "      <td>1</td>\n",
       "      <td>2</td>\n",
       "      <td>1</td>\n",
       "      <td>41</td>\n",
       "      <td>0.9</td>\n",
       "      <td>145</td>\n",
       "      <td>5</td>\n",
       "      <td>...</td>\n",
       "      <td>1263</td>\n",
       "      <td>1716</td>\n",
       "      <td>2603</td>\n",
       "      <td>11</td>\n",
       "      <td>2</td>\n",
       "      <td>9</td>\n",
       "      <td>1</td>\n",
       "      <td>1</td>\n",
       "      <td>0</td>\n",
       "      <td>2</td>\n",
       "    </tr>\n",
       "    <tr>\n",
       "      <th>3</th>\n",
       "      <td>615</td>\n",
       "      <td>1</td>\n",
       "      <td>2.5</td>\n",
       "      <td>0</td>\n",
       "      <td>0</td>\n",
       "      <td>0</td>\n",
       "      <td>10</td>\n",
       "      <td>0.8</td>\n",
       "      <td>131</td>\n",
       "      <td>6</td>\n",
       "      <td>...</td>\n",
       "      <td>1216</td>\n",
       "      <td>1786</td>\n",
       "      <td>2769</td>\n",
       "      <td>16</td>\n",
       "      <td>8</td>\n",
       "      <td>11</td>\n",
       "      <td>1</td>\n",
       "      <td>0</td>\n",
       "      <td>0</td>\n",
       "      <td>2</td>\n",
       "    </tr>\n",
       "    <tr>\n",
       "      <th>4</th>\n",
       "      <td>1821</td>\n",
       "      <td>1</td>\n",
       "      <td>1.2</td>\n",
       "      <td>0</td>\n",
       "      <td>13</td>\n",
       "      <td>1</td>\n",
       "      <td>44</td>\n",
       "      <td>0.6</td>\n",
       "      <td>141</td>\n",
       "      <td>2</td>\n",
       "      <td>...</td>\n",
       "      <td>1208</td>\n",
       "      <td>1212</td>\n",
       "      <td>1411</td>\n",
       "      <td>8</td>\n",
       "      <td>2</td>\n",
       "      <td>15</td>\n",
       "      <td>1</td>\n",
       "      <td>1</td>\n",
       "      <td>0</td>\n",
       "      <td>1</td>\n",
       "    </tr>\n",
       "  </tbody>\n",
       "</table>\n",
       "<p>5 rows × 21 columns</p>\n",
       "</div>"
      ],
      "text/plain": [
       "   battery_power  blue  clock_speed  dual_sim  fc  four_g  int_memory  m_dep  \\\n",
       "0            842     0          2.2         0   1       0           7    0.6   \n",
       "1           1021     1          0.5         1   0       1          53    0.7   \n",
       "2            563     1          0.5         1   2       1          41    0.9   \n",
       "3            615     1          2.5         0   0       0          10    0.8   \n",
       "4           1821     1          1.2         0  13       1          44    0.6   \n",
       "\n",
       "   mobile_wt  n_cores  ...  px_height  px_width   ram  sc_h  sc_w  talk_time  \\\n",
       "0        188        2  ...         20       756  2549     9     7         19   \n",
       "1        136        3  ...        905      1988  2631    17     3          7   \n",
       "2        145        5  ...       1263      1716  2603    11     2          9   \n",
       "3        131        6  ...       1216      1786  2769    16     8         11   \n",
       "4        141        2  ...       1208      1212  1411     8     2         15   \n",
       "\n",
       "   three_g  touch_screen  wifi  price_range  \n",
       "0        0             0     1            1  \n",
       "1        1             1     0            2  \n",
       "2        1             1     0            2  \n",
       "3        1             0     0            2  \n",
       "4        1             1     0            1  \n",
       "\n",
       "[5 rows x 21 columns]"
      ]
     },
     "execution_count": 3,
     "metadata": {},
     "output_type": "execute_result"
    }
   ],
   "source": [
    "mobile_df.head()"
   ]
  },
  {
   "cell_type": "code",
   "execution_count": 4,
   "id": "7547ff0d",
   "metadata": {},
   "outputs": [
    {
     "data": {
      "text/html": [
       "<div>\n",
       "<style scoped>\n",
       "    .dataframe tbody tr th:only-of-type {\n",
       "        vertical-align: middle;\n",
       "    }\n",
       "\n",
       "    .dataframe tbody tr th {\n",
       "        vertical-align: top;\n",
       "    }\n",
       "\n",
       "    .dataframe thead th {\n",
       "        text-align: right;\n",
       "    }\n",
       "</style>\n",
       "<table border=\"1\" class=\"dataframe\">\n",
       "  <thead>\n",
       "    <tr style=\"text-align: right;\">\n",
       "      <th></th>\n",
       "      <th>battery_power</th>\n",
       "      <th>blue</th>\n",
       "      <th>clock_speed</th>\n",
       "      <th>dual_sim</th>\n",
       "      <th>fc</th>\n",
       "      <th>four_g</th>\n",
       "      <th>int_memory</th>\n",
       "      <th>m_dep</th>\n",
       "      <th>mobile_wt</th>\n",
       "      <th>n_cores</th>\n",
       "      <th>...</th>\n",
       "      <th>px_height</th>\n",
       "      <th>px_width</th>\n",
       "      <th>ram</th>\n",
       "      <th>sc_h</th>\n",
       "      <th>sc_w</th>\n",
       "      <th>talk_time</th>\n",
       "      <th>three_g</th>\n",
       "      <th>touch_screen</th>\n",
       "      <th>wifi</th>\n",
       "      <th>price_range</th>\n",
       "    </tr>\n",
       "  </thead>\n",
       "  <tbody>\n",
       "    <tr>\n",
       "      <th>1995</th>\n",
       "      <td>794</td>\n",
       "      <td>1</td>\n",
       "      <td>0.5</td>\n",
       "      <td>1</td>\n",
       "      <td>0</td>\n",
       "      <td>1</td>\n",
       "      <td>2</td>\n",
       "      <td>0.8</td>\n",
       "      <td>106</td>\n",
       "      <td>6</td>\n",
       "      <td>...</td>\n",
       "      <td>1222</td>\n",
       "      <td>1890</td>\n",
       "      <td>668</td>\n",
       "      <td>13</td>\n",
       "      <td>4</td>\n",
       "      <td>19</td>\n",
       "      <td>1</td>\n",
       "      <td>1</td>\n",
       "      <td>0</td>\n",
       "      <td>0</td>\n",
       "    </tr>\n",
       "    <tr>\n",
       "      <th>1996</th>\n",
       "      <td>1965</td>\n",
       "      <td>1</td>\n",
       "      <td>2.6</td>\n",
       "      <td>1</td>\n",
       "      <td>0</td>\n",
       "      <td>0</td>\n",
       "      <td>39</td>\n",
       "      <td>0.2</td>\n",
       "      <td>187</td>\n",
       "      <td>4</td>\n",
       "      <td>...</td>\n",
       "      <td>915</td>\n",
       "      <td>1965</td>\n",
       "      <td>2032</td>\n",
       "      <td>11</td>\n",
       "      <td>10</td>\n",
       "      <td>16</td>\n",
       "      <td>1</td>\n",
       "      <td>1</td>\n",
       "      <td>1</td>\n",
       "      <td>2</td>\n",
       "    </tr>\n",
       "    <tr>\n",
       "      <th>1997</th>\n",
       "      <td>1911</td>\n",
       "      <td>0</td>\n",
       "      <td>0.9</td>\n",
       "      <td>1</td>\n",
       "      <td>1</td>\n",
       "      <td>1</td>\n",
       "      <td>36</td>\n",
       "      <td>0.7</td>\n",
       "      <td>108</td>\n",
       "      <td>8</td>\n",
       "      <td>...</td>\n",
       "      <td>868</td>\n",
       "      <td>1632</td>\n",
       "      <td>3057</td>\n",
       "      <td>9</td>\n",
       "      <td>1</td>\n",
       "      <td>5</td>\n",
       "      <td>1</td>\n",
       "      <td>1</td>\n",
       "      <td>0</td>\n",
       "      <td>3</td>\n",
       "    </tr>\n",
       "    <tr>\n",
       "      <th>1998</th>\n",
       "      <td>1512</td>\n",
       "      <td>0</td>\n",
       "      <td>0.9</td>\n",
       "      <td>0</td>\n",
       "      <td>4</td>\n",
       "      <td>1</td>\n",
       "      <td>46</td>\n",
       "      <td>0.1</td>\n",
       "      <td>145</td>\n",
       "      <td>5</td>\n",
       "      <td>...</td>\n",
       "      <td>336</td>\n",
       "      <td>670</td>\n",
       "      <td>869</td>\n",
       "      <td>18</td>\n",
       "      <td>10</td>\n",
       "      <td>19</td>\n",
       "      <td>1</td>\n",
       "      <td>1</td>\n",
       "      <td>1</td>\n",
       "      <td>0</td>\n",
       "    </tr>\n",
       "    <tr>\n",
       "      <th>1999</th>\n",
       "      <td>510</td>\n",
       "      <td>1</td>\n",
       "      <td>2.0</td>\n",
       "      <td>1</td>\n",
       "      <td>5</td>\n",
       "      <td>1</td>\n",
       "      <td>45</td>\n",
       "      <td>0.9</td>\n",
       "      <td>168</td>\n",
       "      <td>6</td>\n",
       "      <td>...</td>\n",
       "      <td>483</td>\n",
       "      <td>754</td>\n",
       "      <td>3919</td>\n",
       "      <td>19</td>\n",
       "      <td>4</td>\n",
       "      <td>2</td>\n",
       "      <td>1</td>\n",
       "      <td>1</td>\n",
       "      <td>1</td>\n",
       "      <td>3</td>\n",
       "    </tr>\n",
       "  </tbody>\n",
       "</table>\n",
       "<p>5 rows × 21 columns</p>\n",
       "</div>"
      ],
      "text/plain": [
       "      battery_power  blue  clock_speed  dual_sim  fc  four_g  int_memory  \\\n",
       "1995            794     1          0.5         1   0       1           2   \n",
       "1996           1965     1          2.6         1   0       0          39   \n",
       "1997           1911     0          0.9         1   1       1          36   \n",
       "1998           1512     0          0.9         0   4       1          46   \n",
       "1999            510     1          2.0         1   5       1          45   \n",
       "\n",
       "      m_dep  mobile_wt  n_cores  ...  px_height  px_width   ram  sc_h  sc_w  \\\n",
       "1995    0.8        106        6  ...       1222      1890   668    13     4   \n",
       "1996    0.2        187        4  ...        915      1965  2032    11    10   \n",
       "1997    0.7        108        8  ...        868      1632  3057     9     1   \n",
       "1998    0.1        145        5  ...        336       670   869    18    10   \n",
       "1999    0.9        168        6  ...        483       754  3919    19     4   \n",
       "\n",
       "      talk_time  three_g  touch_screen  wifi  price_range  \n",
       "1995         19        1             1     0            0  \n",
       "1996         16        1             1     1            2  \n",
       "1997          5        1             1     0            3  \n",
       "1998         19        1             1     1            0  \n",
       "1999          2        1             1     1            3  \n",
       "\n",
       "[5 rows x 21 columns]"
      ]
     },
     "execution_count": 4,
     "metadata": {},
     "output_type": "execute_result"
    }
   ],
   "source": [
    "mobile_df.tail()"
   ]
  },
  {
   "cell_type": "markdown",
   "id": "beee3d04",
   "metadata": {},
   "source": [
    "以下是新加的部分，是来处理异常值的，比如说10%的手机宽和像素宽是0，不make sense，但因为对用户来说都很重要，所以不能随意填充，还是删掉了"
   ]
  },
  {
   "cell_type": "code",
   "execution_count": 5,
   "id": "cb50213b",
   "metadata": {},
   "outputs": [
    {
     "data": {
      "text/plain": [
       "180"
      ]
     },
     "execution_count": 5,
     "metadata": {},
     "output_type": "execute_result"
    }
   ],
   "source": [
    "cnt1 = (mobile_df['sc_w']==0).sum()\n",
    "cnt1"
   ]
  },
  {
   "cell_type": "code",
   "execution_count": 6,
   "id": "a8d1619c",
   "metadata": {},
   "outputs": [
    {
     "data": {
      "text/plain": [
       "<AxesSubplot:>"
      ]
     },
     "execution_count": 6,
     "metadata": {},
     "output_type": "execute_result"
    },
    {
     "data": {
      "image/png": "[encoded data removed]",
      "text/plain": [
       "<Figure size 432x288 with 1 Axes>"
      ]
     },
     "metadata": {
      "needs_background": "light"
     },
     "output_type": "display_data"
    }
   ],
   "source": [
    "mobile_df['sc_w'].hist()"
   ]
  },
  {
   "cell_type": "code",
   "execution_count": 7,
   "id": "e6aef09e",
   "metadata": {},
   "outputs": [
    {
     "data": {
      "text/plain": [
       "2"
      ]
     },
     "execution_count": 7,
     "metadata": {},
     "output_type": "execute_result"
    }
   ],
   "source": [
    "cnt2 = (mobile_df['px_height']==0).sum()\n",
    "cnt2"
   ]
  },
  {
   "cell_type": "code",
   "execution_count": 8,
   "id": "b7f9e7e3",
   "metadata": {},
   "outputs": [
    {
     "data": {
      "text/plain": [
       "<AxesSubplot:>"
      ]
     },
     "execution_count": 8,
     "metadata": {},
     "output_type": "execute_result"
    },
    {
     "data": {
      "image/png": "[encoded data removed]",
      "text/plain": [
       "<Figure size 432x288 with 1 Axes>"
      ]
     },
     "metadata": {
      "needs_background": "light"
     },
     "output_type": "display_data"
    }
   ],
   "source": [
    "mobile_df['px_height'].hist()"
   ]
  },
  {
   "cell_type": "code",
   "execution_count": 9,
   "id": "43cd2f8b",
   "metadata": {},
   "outputs": [],
   "source": [
    "mobile_df = mobile_df[(mobile_df.px_height != 0) & (mobile_df.sc_w != 0)].reset_index()"
   ]
  },
  {
   "cell_type": "code",
   "execution_count": 10,
   "id": "04e5af48",
   "metadata": {},
   "outputs": [
    {
     "data": {
      "text/html": [
       "<div>\n",
       "<style scoped>\n",
       "    .dataframe tbody tr th:only-of-type {\n",
       "        vertical-align: middle;\n",
       "    }\n",
       "\n",
       "    .dataframe tbody tr th {\n",
       "        vertical-align: top;\n",
       "    }\n",
       "\n",
       "    .dataframe thead th {\n",
       "        text-align: right;\n",
       "    }\n",
       "</style>\n",
       "<table border=\"1\" class=\"dataframe\">\n",
       "  <thead>\n",
       "    <tr style=\"text-align: right;\">\n",
       "      <th></th>\n",
       "      <th>index</th>\n",
       "      <th>battery_power</th>\n",
       "      <th>blue</th>\n",
       "      <th>clock_speed</th>\n",
       "      <th>dual_sim</th>\n",
       "      <th>fc</th>\n",
       "      <th>four_g</th>\n",
       "      <th>int_memory</th>\n",
       "      <th>m_dep</th>\n",
       "      <th>mobile_wt</th>\n",
       "      <th>...</th>\n",
       "      <th>px_height</th>\n",
       "      <th>px_width</th>\n",
       "      <th>ram</th>\n",
       "      <th>sc_h</th>\n",
       "      <th>sc_w</th>\n",
       "      <th>talk_time</th>\n",
       "      <th>three_g</th>\n",
       "      <th>touch_screen</th>\n",
       "      <th>wifi</th>\n",
       "      <th>price_range</th>\n",
       "    </tr>\n",
       "  </thead>\n",
       "  <tbody>\n",
       "    <tr>\n",
       "      <th>0</th>\n",
       "      <td>0</td>\n",
       "      <td>842</td>\n",
       "      <td>0</td>\n",
       "      <td>2.2</td>\n",
       "      <td>0</td>\n",
       "      <td>1</td>\n",
       "      <td>0</td>\n",
       "      <td>7</td>\n",
       "      <td>0.6</td>\n",
       "      <td>188</td>\n",
       "      <td>...</td>\n",
       "      <td>20</td>\n",
       "      <td>756</td>\n",
       "      <td>2549</td>\n",
       "      <td>9</td>\n",
       "      <td>7</td>\n",
       "      <td>19</td>\n",
       "      <td>0</td>\n",
       "      <td>0</td>\n",
       "      <td>1</td>\n",
       "      <td>1</td>\n",
       "    </tr>\n",
       "    <tr>\n",
       "      <th>1</th>\n",
       "      <td>1</td>\n",
       "      <td>1021</td>\n",
       "      <td>1</td>\n",
       "      <td>0.5</td>\n",
       "      <td>1</td>\n",
       "      <td>0</td>\n",
       "      <td>1</td>\n",
       "      <td>53</td>\n",
       "      <td>0.7</td>\n",
       "      <td>136</td>\n",
       "      <td>...</td>\n",
       "      <td>905</td>\n",
       "      <td>1988</td>\n",
       "      <td>2631</td>\n",
       "      <td>17</td>\n",
       "      <td>3</td>\n",
       "      <td>7</td>\n",
       "      <td>1</td>\n",
       "      <td>1</td>\n",
       "      <td>0</td>\n",
       "      <td>2</td>\n",
       "    </tr>\n",
       "    <tr>\n",
       "      <th>2</th>\n",
       "      <td>2</td>\n",
       "      <td>563</td>\n",
       "      <td>1</td>\n",
       "      <td>0.5</td>\n",
       "      <td>1</td>\n",
       "      <td>2</td>\n",
       "      <td>1</td>\n",
       "      <td>41</td>\n",
       "      <td>0.9</td>\n",
       "      <td>145</td>\n",
       "      <td>...</td>\n",
       "      <td>1263</td>\n",
       "      <td>1716</td>\n",
       "      <td>2603</td>\n",
       "      <td>11</td>\n",
       "      <td>2</td>\n",
       "      <td>9</td>\n",
       "      <td>1</td>\n",
       "      <td>1</td>\n",
       "      <td>0</td>\n",
       "      <td>2</td>\n",
       "    </tr>\n",
       "    <tr>\n",
       "      <th>3</th>\n",
       "      <td>3</td>\n",
       "      <td>615</td>\n",
       "      <td>1</td>\n",
       "      <td>2.5</td>\n",
       "      <td>0</td>\n",
       "      <td>0</td>\n",
       "      <td>0</td>\n",
       "      <td>10</td>\n",
       "      <td>0.8</td>\n",
       "      <td>131</td>\n",
       "      <td>...</td>\n",
       "      <td>1216</td>\n",
       "      <td>1786</td>\n",
       "      <td>2769</td>\n",
       "      <td>16</td>\n",
       "      <td>8</td>\n",
       "      <td>11</td>\n",
       "      <td>1</td>\n",
       "      <td>0</td>\n",
       "      <td>0</td>\n",
       "      <td>2</td>\n",
       "    </tr>\n",
       "    <tr>\n",
       "      <th>4</th>\n",
       "      <td>4</td>\n",
       "      <td>1821</td>\n",
       "      <td>1</td>\n",
       "      <td>1.2</td>\n",
       "      <td>0</td>\n",
       "      <td>13</td>\n",
       "      <td>1</td>\n",
       "      <td>44</td>\n",
       "      <td>0.6</td>\n",
       "      <td>141</td>\n",
       "      <td>...</td>\n",
       "      <td>1208</td>\n",
       "      <td>1212</td>\n",
       "      <td>1411</td>\n",
       "      <td>8</td>\n",
       "      <td>2</td>\n",
       "      <td>15</td>\n",
       "      <td>1</td>\n",
       "      <td>1</td>\n",
       "      <td>0</td>\n",
       "      <td>1</td>\n",
       "    </tr>\n",
       "    <tr>\n",
       "      <th>...</th>\n",
       "      <td>...</td>\n",
       "      <td>...</td>\n",
       "      <td>...</td>\n",
       "      <td>...</td>\n",
       "      <td>...</td>\n",
       "      <td>...</td>\n",
       "      <td>...</td>\n",
       "      <td>...</td>\n",
       "      <td>...</td>\n",
       "      <td>...</td>\n",
       "      <td>...</td>\n",
       "      <td>...</td>\n",
       "      <td>...</td>\n",
       "      <td>...</td>\n",
       "      <td>...</td>\n",
       "      <td>...</td>\n",
       "      <td>...</td>\n",
       "      <td>...</td>\n",
       "      <td>...</td>\n",
       "      <td>...</td>\n",
       "      <td>...</td>\n",
       "    </tr>\n",
       "    <tr>\n",
       "      <th>1814</th>\n",
       "      <td>1995</td>\n",
       "      <td>794</td>\n",
       "      <td>1</td>\n",
       "      <td>0.5</td>\n",
       "      <td>1</td>\n",
       "      <td>0</td>\n",
       "      <td>1</td>\n",
       "      <td>2</td>\n",
       "      <td>0.8</td>\n",
       "      <td>106</td>\n",
       "      <td>...</td>\n",
       "      <td>1222</td>\n",
       "      <td>1890</td>\n",
       "      <td>668</td>\n",
       "      <td>13</td>\n",
       "      <td>4</td>\n",
       "      <td>19</td>\n",
       "      <td>1</td>\n",
       "      <td>1</td>\n",
       "      <td>0</td>\n",
       "      <td>0</td>\n",
       "    </tr>\n",
       "    <tr>\n",
       "      <th>1815</th>\n",
       "      <td>1996</td>\n",
       "      <td>1965</td>\n",
       "      <td>1</td>\n",
       "      <td>2.6</td>\n",
       "      <td>1</td>\n",
       "      <td>0</td>\n",
       "      <td>0</td>\n",
       "      <td>39</td>\n",
       "      <td>0.2</td>\n",
       "      <td>187</td>\n",
       "      <td>...</td>\n",
       "      <td>915</td>\n",
       "      <td>1965</td>\n",
       "      <td>2032</td>\n",
       "      <td>11</td>\n",
       "      <td>10</td>\n",
       "      <td>16</td>\n",
       "      <td>1</td>\n",
       "      <td>1</td>\n",
       "      <td>1</td>\n",
       "      <td>2</td>\n",
       "    </tr>\n",
       "    <tr>\n",
       "      <th>1816</th>\n",
       "      <td>1997</td>\n",
       "      <td>1911</td>\n",
       "      <td>0</td>\n",
       "      <td>0.9</td>\n",
       "      <td>1</td>\n",
       "      <td>1</td>\n",
       "      <td>1</td>\n",
       "      <td>36</td>\n",
       "      <td>0.7</td>\n",
       "      <td>108</td>\n",
       "      <td>...</td>\n",
       "      <td>868</td>\n",
       "      <td>1632</td>\n",
       "      <td>3057</td>\n",
       "      <td>9</td>\n",
       "      <td>1</td>\n",
       "      <td>5</td>\n",
       "      <td>1</td>\n",
       "      <td>1</td>\n",
       "      <td>0</td>\n",
       "      <td>3</td>\n",
       "    </tr>\n",
       "    <tr>\n",
       "      <th>1817</th>\n",
       "      <td>1998</td>\n",
       "      <td>1512</td>\n",
       "      <td>0</td>\n",
       "      <td>0.9</td>\n",
       "      <td>0</td>\n",
       "      <td>4</td>\n",
       "      <td>1</td>\n",
       "      <td>46</td>\n",
       "      <td>0.1</td>\n",
       "      <td>145</td>\n",
       "      <td>...</td>\n",
       "      <td>336</td>\n",
       "      <td>670</td>\n",
       "      <td>869</td>\n",
       "      <td>18</td>\n",
       "      <td>10</td>\n",
       "      <td>19</td>\n",
       "      <td>1</td>\n",
       "      <td>1</td>\n",
       "      <td>1</td>\n",
       "      <td>0</td>\n",
       "    </tr>\n",
       "    <tr>\n",
       "      <th>1818</th>\n",
       "      <td>1999</td>\n",
       "      <td>510</td>\n",
       "      <td>1</td>\n",
       "      <td>2.0</td>\n",
       "      <td>1</td>\n",
       "      <td>5</td>\n",
       "      <td>1</td>\n",
       "      <td>45</td>\n",
       "      <td>0.9</td>\n",
       "      <td>168</td>\n",
       "      <td>...</td>\n",
       "      <td>483</td>\n",
       "      <td>754</td>\n",
       "      <td>3919</td>\n",
       "      <td>19</td>\n",
       "      <td>4</td>\n",
       "      <td>2</td>\n",
       "      <td>1</td>\n",
       "      <td>1</td>\n",
       "      <td>1</td>\n",
       "      <td>3</td>\n",
       "    </tr>\n",
       "  </tbody>\n",
       "</table>\n",
       "<p>1819 rows × 22 columns</p>\n",
       "</div>"
      ],
      "text/plain": [
       "      index  battery_power  blue  clock_speed  dual_sim  fc  four_g  \\\n",
       "0         0            842     0          2.2         0   1       0   \n",
       "1         1           1021     1          0.5         1   0       1   \n",
       "2         2            563     1          0.5         1   2       1   \n",
       "3         3            615     1          2.5         0   0       0   \n",
       "4         4           1821     1          1.2         0  13       1   \n",
       "...     ...            ...   ...          ...       ...  ..     ...   \n",
       "1814   1995            794     1          0.5         1   0       1   \n",
       "1815   1996           1965     1          2.6         1   0       0   \n",
       "1816   1997           1911     0          0.9         1   1       1   \n",
       "1817   1998           1512     0          0.9         0   4       1   \n",
       "1818   1999            510     1          2.0         1   5       1   \n",
       "\n",
       "      int_memory  m_dep  mobile_wt  ...  px_height  px_width   ram  sc_h  \\\n",
       "0              7    0.6        188  ...         20       756  2549     9   \n",
       "1             53    0.7        136  ...        905      1988  2631    17   \n",
       "2             41    0.9        145  ...       1263      1716  2603    11   \n",
       "3             10    0.8        131  ...       1216      1786  2769    16   \n",
       "4             44    0.6        141  ...       1208      1212  1411     8   \n",
       "...          ...    ...        ...  ...        ...       ...   ...   ...   \n",
       "1814           2    0.8        106  ...       1222      1890   668    13   \n",
       "1815          39    0.2        187  ...        915      1965  2032    11   \n",
       "1816          36    0.7        108  ...        868      1632  3057     9   \n",
       "1817          46    0.1        145  ...        336       670   869    18   \n",
       "1818          45    0.9        168  ...        483       754  3919    19   \n",
       "\n",
       "      sc_w  talk_time  three_g  touch_screen  wifi  price_range  \n",
       "0        7         19        0             0     1            1  \n",
       "1        3          7        1             1     0            2  \n",
       "2        2          9        1             1     0            2  \n",
       "3        8         11        1             0     0            2  \n",
       "4        2         15        1             1     0            1  \n",
       "...    ...        ...      ...           ...   ...          ...  \n",
       "1814     4         19        1             1     0            0  \n",
       "1815    10         16        1             1     1            2  \n",
       "1816     1          5        1             1     0            3  \n",
       "1817    10         19        1             1     1            0  \n",
       "1818     4          2        1             1     1            3  \n",
       "\n",
       "[1819 rows x 22 columns]"
      ]
     },
     "execution_count": 10,
     "metadata": {},
     "output_type": "execute_result"
    }
   ],
   "source": [
    "mobile_df"
   ]
  },
  {
   "cell_type": "code",
   "execution_count": 11,
   "id": "34452fca",
   "metadata": {},
   "outputs": [
    {
     "name": "stdout",
     "output_type": "stream",
     "text": [
      "<class 'pandas.core.frame.DataFrame'>\n",
      "RangeIndex: 1819 entries, 0 to 1818\n",
      "Data columns (total 22 columns):\n",
      " #   Column         Non-Null Count  Dtype  \n",
      "---  ------         --------------  -----  \n",
      " 0   index          1819 non-null   int64  \n",
      " 1   battery_power  1819 non-null   int64  \n",
      " 2   blue           1819 non-null   int64  \n",
      " 3   clock_speed    1819 non-null   float64\n",
      " 4   dual_sim       1819 non-null   int64  \n",
      " 5   fc             1819 non-null   int64  \n",
      " 6   four_g         1819 non-null   int64  \n",
      " 7   int_memory     1819 non-null   int64  \n",
      " 8   m_dep          1819 non-null   float64\n",
      " 9   mobile_wt      1819 non-null   int64  \n",
      " 10  n_cores        1819 non-null   int64  \n",
      " 11  pc             1819 non-null   int64  \n",
      " 12  px_height      1819 non-null   int64  \n",
      " 13  px_width       1819 non-null   int64  \n",
      " 14  ram            1819 non-null   int64  \n",
      " 15  sc_h           1819 non-null   int64  \n",
      " 16  sc_w           1819 non-null   int64  \n",
      " 17  talk_time      1819 non-null   int64  \n",
      " 18  three_g        1819 non-null   int64  \n",
      " 19  touch_screen   1819 non-null   int64  \n",
      " 20  wifi           1819 non-null   int64  \n",
      " 21  price_range    1819 non-null   int64  \n",
      "dtypes: float64(2), int64(20)\n",
      "memory usage: 312.8 KB\n"
     ]
    }
   ],
   "source": [
    "mobile_df.info(verbose = True, memory_usage = 'deep')"
   ]
  },
  {
   "cell_type": "code",
   "execution_count": 12,
   "id": "6a59fe28",
   "metadata": {},
   "outputs": [
    {
     "data": {
      "text/plain": [
       "index            1819\n",
       "battery_power    1052\n",
       "blue                2\n",
       "clock_speed        26\n",
       "dual_sim            2\n",
       "fc                 20\n",
       "four_g              2\n",
       "int_memory         63\n",
       "m_dep              10\n",
       "mobile_wt         121\n",
       "n_cores             8\n",
       "pc                 21\n",
       "px_height        1070\n",
       "px_width         1056\n",
       "ram              1455\n",
       "sc_h               15\n",
       "sc_w               18\n",
       "talk_time          19\n",
       "three_g             2\n",
       "touch_screen        2\n",
       "wifi                2\n",
       "price_range         4\n",
       "dtype: int64"
      ]
     },
     "execution_count": 12,
     "metadata": {},
     "output_type": "execute_result"
    }
   ],
   "source": [
    "mobile_df.nunique()\n",
    "#blue,dual_sim,four_g,three_g,touch_screen, wifi and price_range are all categorical\n",
    "#they are all binary variables, no need to one-hot encoding"
   ]
  },
  {
   "cell_type": "code",
   "execution_count": 13,
   "id": "46745b4e",
   "metadata": {},
   "outputs": [],
   "source": [
    "#get target value\n",
    "y = mobile_df['price_range']"
   ]
  },
  {
   "cell_type": "markdown",
   "id": "bd2e09e2",
   "metadata": {},
   "source": [
    "### Part1.2: Understand the features"
   ]
  },
  {
   "cell_type": "code",
   "execution_count": 14,
   "id": "47c9e25c",
   "metadata": {},
   "outputs": [
    {
     "data": {
      "text/plain": [
       "index            0\n",
       "battery_power    0\n",
       "blue             0\n",
       "clock_speed      0\n",
       "dual_sim         0\n",
       "fc               0\n",
       "four_g           0\n",
       "int_memory       0\n",
       "m_dep            0\n",
       "mobile_wt        0\n",
       "n_cores          0\n",
       "pc               0\n",
       "px_height        0\n",
       "px_width         0\n",
       "ram              0\n",
       "sc_h             0\n",
       "sc_w             0\n",
       "talk_time        0\n",
       "three_g          0\n",
       "touch_screen     0\n",
       "wifi             0\n",
       "price_range      0\n",
       "dtype: int64"
      ]
     },
     "execution_count": 14,
     "metadata": {},
     "output_type": "execute_result"
    }
   ],
   "source": [
    "#check missing values\n",
    "mobile_df.isnull().sum()"
   ]
  },
  {
   "cell_type": "code",
   "execution_count": 15,
   "id": "d283e823",
   "metadata": {},
   "outputs": [
    {
     "data": {
      "text/plain": [
       "0"
      ]
     },
     "execution_count": 15,
     "metadata": {},
     "output_type": "execute_result"
    }
   ],
   "source": [
    "#no duplicated data\n",
    "mobile_df.duplicated().sum()"
   ]
  },
  {
   "cell_type": "code",
   "execution_count": 16,
   "id": "af97ffc1",
   "metadata": {},
   "outputs": [
    {
     "data": {
      "text/html": [
       "<div>\n",
       "<style scoped>\n",
       "    .dataframe tbody tr th:only-of-type {\n",
       "        vertical-align: middle;\n",
       "    }\n",
       "\n",
       "    .dataframe tbody tr th {\n",
       "        vertical-align: top;\n",
       "    }\n",
       "\n",
       "    .dataframe thead th {\n",
       "        text-align: right;\n",
       "    }\n",
       "</style>\n",
       "<table border=\"1\" class=\"dataframe\">\n",
       "  <thead>\n",
       "    <tr style=\"text-align: right;\">\n",
       "      <th></th>\n",
       "      <th>index</th>\n",
       "      <th>battery_power</th>\n",
       "      <th>blue</th>\n",
       "      <th>clock_speed</th>\n",
       "      <th>dual_sim</th>\n",
       "      <th>fc</th>\n",
       "      <th>four_g</th>\n",
       "      <th>int_memory</th>\n",
       "      <th>m_dep</th>\n",
       "      <th>mobile_wt</th>\n",
       "      <th>...</th>\n",
       "      <th>px_height</th>\n",
       "      <th>px_width</th>\n",
       "      <th>ram</th>\n",
       "      <th>sc_h</th>\n",
       "      <th>sc_w</th>\n",
       "      <th>talk_time</th>\n",
       "      <th>three_g</th>\n",
       "      <th>touch_screen</th>\n",
       "      <th>wifi</th>\n",
       "      <th>price_range</th>\n",
       "    </tr>\n",
       "  </thead>\n",
       "  <tbody>\n",
       "    <tr>\n",
       "      <th>count</th>\n",
       "      <td>1819.000000</td>\n",
       "      <td>1819.000000</td>\n",
       "      <td>1819.000000</td>\n",
       "      <td>1819.000000</td>\n",
       "      <td>1819.000000</td>\n",
       "      <td>1819.000000</td>\n",
       "      <td>1819.000000</td>\n",
       "      <td>1819.000000</td>\n",
       "      <td>1819.000000</td>\n",
       "      <td>1819.000000</td>\n",
       "      <td>...</td>\n",
       "      <td>1819.000000</td>\n",
       "      <td>1819.000000</td>\n",
       "      <td>1819.000000</td>\n",
       "      <td>1819.000000</td>\n",
       "      <td>1819.000000</td>\n",
       "      <td>1819.000000</td>\n",
       "      <td>1819.000000</td>\n",
       "      <td>1819.000000</td>\n",
       "      <td>1819.000000</td>\n",
       "      <td>1819.000000</td>\n",
       "    </tr>\n",
       "    <tr>\n",
       "      <th>mean</th>\n",
       "      <td>998.379879</td>\n",
       "      <td>1238.031336</td>\n",
       "      <td>0.503573</td>\n",
       "      <td>1.519406</td>\n",
       "      <td>0.504673</td>\n",
       "      <td>4.319956</td>\n",
       "      <td>0.524464</td>\n",
       "      <td>32.156130</td>\n",
       "      <td>0.499835</td>\n",
       "      <td>140.578340</td>\n",
       "      <td>...</td>\n",
       "      <td>647.086861</td>\n",
       "      <td>1252.828477</td>\n",
       "      <td>2133.468939</td>\n",
       "      <td>12.488730</td>\n",
       "      <td>6.338098</td>\n",
       "      <td>11.009346</td>\n",
       "      <td>0.760858</td>\n",
       "      <td>0.507422</td>\n",
       "      <td>0.513469</td>\n",
       "      <td>1.509621</td>\n",
       "    </tr>\n",
       "    <tr>\n",
       "      <th>std</th>\n",
       "      <td>576.240108</td>\n",
       "      <td>439.989288</td>\n",
       "      <td>0.500125</td>\n",
       "      <td>0.813975</td>\n",
       "      <td>0.500116</td>\n",
       "      <td>4.355982</td>\n",
       "      <td>0.499538</td>\n",
       "      <td>18.105723</td>\n",
       "      <td>0.288875</td>\n",
       "      <td>35.437231</td>\n",
       "      <td>...</td>\n",
       "      <td>444.741154</td>\n",
       "      <td>432.418889</td>\n",
       "      <td>1087.488721</td>\n",
       "      <td>4.166008</td>\n",
       "      <td>4.153085</td>\n",
       "      <td>5.456642</td>\n",
       "      <td>0.426677</td>\n",
       "      <td>0.500082</td>\n",
       "      <td>0.499956</td>\n",
       "      <td>1.119529</td>\n",
       "    </tr>\n",
       "    <tr>\n",
       "      <th>min</th>\n",
       "      <td>0.000000</td>\n",
       "      <td>501.000000</td>\n",
       "      <td>0.000000</td>\n",
       "      <td>0.500000</td>\n",
       "      <td>0.000000</td>\n",
       "      <td>0.000000</td>\n",
       "      <td>0.000000</td>\n",
       "      <td>2.000000</td>\n",
       "      <td>0.100000</td>\n",
       "      <td>80.000000</td>\n",
       "      <td>...</td>\n",
       "      <td>1.000000</td>\n",
       "      <td>500.000000</td>\n",
       "      <td>256.000000</td>\n",
       "      <td>5.000000</td>\n",
       "      <td>1.000000</td>\n",
       "      <td>2.000000</td>\n",
       "      <td>0.000000</td>\n",
       "      <td>0.000000</td>\n",
       "      <td>0.000000</td>\n",
       "      <td>0.000000</td>\n",
       "    </tr>\n",
       "    <tr>\n",
       "      <th>25%</th>\n",
       "      <td>503.500000</td>\n",
       "      <td>845.000000</td>\n",
       "      <td>0.000000</td>\n",
       "      <td>0.700000</td>\n",
       "      <td>0.000000</td>\n",
       "      <td>1.000000</td>\n",
       "      <td>0.000000</td>\n",
       "      <td>16.000000</td>\n",
       "      <td>0.200000</td>\n",
       "      <td>109.000000</td>\n",
       "      <td>...</td>\n",
       "      <td>284.000000</td>\n",
       "      <td>877.000000</td>\n",
       "      <td>1203.500000</td>\n",
       "      <td>9.000000</td>\n",
       "      <td>3.000000</td>\n",
       "      <td>6.000000</td>\n",
       "      <td>1.000000</td>\n",
       "      <td>0.000000</td>\n",
       "      <td>0.000000</td>\n",
       "      <td>1.000000</td>\n",
       "    </tr>\n",
       "    <tr>\n",
       "      <th>50%</th>\n",
       "      <td>995.000000</td>\n",
       "      <td>1231.000000</td>\n",
       "      <td>1.000000</td>\n",
       "      <td>1.500000</td>\n",
       "      <td>1.000000</td>\n",
       "      <td>3.000000</td>\n",
       "      <td>1.000000</td>\n",
       "      <td>32.000000</td>\n",
       "      <td>0.500000</td>\n",
       "      <td>141.000000</td>\n",
       "      <td>...</td>\n",
       "      <td>562.000000</td>\n",
       "      <td>1251.000000</td>\n",
       "      <td>2175.000000</td>\n",
       "      <td>13.000000</td>\n",
       "      <td>6.000000</td>\n",
       "      <td>11.000000</td>\n",
       "      <td>1.000000</td>\n",
       "      <td>1.000000</td>\n",
       "      <td>1.000000</td>\n",
       "      <td>2.000000</td>\n",
       "    </tr>\n",
       "    <tr>\n",
       "      <th>75%</th>\n",
       "      <td>1494.500000</td>\n",
       "      <td>1611.000000</td>\n",
       "      <td>1.000000</td>\n",
       "      <td>2.200000</td>\n",
       "      <td>1.000000</td>\n",
       "      <td>7.000000</td>\n",
       "      <td>1.000000</td>\n",
       "      <td>48.000000</td>\n",
       "      <td>0.800000</td>\n",
       "      <td>170.500000</td>\n",
       "      <td>...</td>\n",
       "      <td>952.000000</td>\n",
       "      <td>1633.000000</td>\n",
       "      <td>3072.500000</td>\n",
       "      <td>16.000000</td>\n",
       "      <td>9.000000</td>\n",
       "      <td>16.000000</td>\n",
       "      <td>1.000000</td>\n",
       "      <td>1.000000</td>\n",
       "      <td>1.000000</td>\n",
       "      <td>3.000000</td>\n",
       "    </tr>\n",
       "    <tr>\n",
       "      <th>max</th>\n",
       "      <td>1999.000000</td>\n",
       "      <td>1998.000000</td>\n",
       "      <td>1.000000</td>\n",
       "      <td>3.000000</td>\n",
       "      <td>1.000000</td>\n",
       "      <td>19.000000</td>\n",
       "      <td>1.000000</td>\n",
       "      <td>64.000000</td>\n",
       "      <td>1.000000</td>\n",
       "      <td>200.000000</td>\n",
       "      <td>...</td>\n",
       "      <td>1960.000000</td>\n",
       "      <td>1998.000000</td>\n",
       "      <td>3998.000000</td>\n",
       "      <td>19.000000</td>\n",
       "      <td>18.000000</td>\n",
       "      <td>20.000000</td>\n",
       "      <td>1.000000</td>\n",
       "      <td>1.000000</td>\n",
       "      <td>1.000000</td>\n",
       "      <td>3.000000</td>\n",
       "    </tr>\n",
       "  </tbody>\n",
       "</table>\n",
       "<p>8 rows × 22 columns</p>\n",
       "</div>"
      ],
      "text/plain": [
       "             index  battery_power         blue  clock_speed     dual_sim  \\\n",
       "count  1819.000000    1819.000000  1819.000000  1819.000000  1819.000000   \n",
       "mean    998.379879    1238.031336     0.503573     1.519406     0.504673   \n",
       "std     576.240108     439.989288     0.500125     0.813975     0.500116   \n",
       "min       0.000000     501.000000     0.000000     0.500000     0.000000   \n",
       "25%     503.500000     845.000000     0.000000     0.700000     0.000000   \n",
       "50%     995.000000    1231.000000     1.000000     1.500000     1.000000   \n",
       "75%    1494.500000    1611.000000     1.000000     2.200000     1.000000   \n",
       "max    1999.000000    1998.000000     1.000000     3.000000     1.000000   \n",
       "\n",
       "                fc       four_g   int_memory        m_dep    mobile_wt  ...  \\\n",
       "count  1819.000000  1819.000000  1819.000000  1819.000000  1819.000000  ...   \n",
       "mean      4.319956     0.524464    32.156130     0.499835   140.578340  ...   \n",
       "std       4.355982     0.499538    18.105723     0.288875    35.437231  ...   \n",
       "min       0.000000     0.000000     2.000000     0.100000    80.000000  ...   \n",
       "25%       1.000000     0.000000    16.000000     0.200000   109.000000  ...   \n",
       "50%       3.000000     1.000000    32.000000     0.500000   141.000000  ...   \n",
       "75%       7.000000     1.000000    48.000000     0.800000   170.500000  ...   \n",
       "max      19.000000     1.000000    64.000000     1.000000   200.000000  ...   \n",
       "\n",
       "         px_height     px_width          ram         sc_h         sc_w  \\\n",
       "count  1819.000000  1819.000000  1819.000000  1819.000000  1819.000000   \n",
       "mean    647.086861  1252.828477  2133.468939    12.488730     6.338098   \n",
       "std     444.741154   432.418889  1087.488721     4.166008     4.153085   \n",
       "min       1.000000   500.000000   256.000000     5.000000     1.000000   \n",
       "25%     284.000000   877.000000  1203.500000     9.000000     3.000000   \n",
       "50%     562.000000  1251.000000  2175.000000    13.000000     6.000000   \n",
       "75%     952.000000  1633.000000  3072.500000    16.000000     9.000000   \n",
       "max    1960.000000  1998.000000  3998.000000    19.000000    18.000000   \n",
       "\n",
       "         talk_time      three_g  touch_screen         wifi  price_range  \n",
       "count  1819.000000  1819.000000   1819.000000  1819.000000  1819.000000  \n",
       "mean     11.009346     0.760858      0.507422     0.513469     1.509621  \n",
       "std       5.456642     0.426677      0.500082     0.499956     1.119529  \n",
       "min       2.000000     0.000000      0.000000     0.000000     0.000000  \n",
       "25%       6.000000     1.000000      0.000000     0.000000     1.000000  \n",
       "50%      11.000000     1.000000      1.000000     1.000000     2.000000  \n",
       "75%      16.000000     1.000000      1.000000     1.000000     3.000000  \n",
       "max      20.000000     1.000000      1.000000     1.000000     3.000000  \n",
       "\n",
       "[8 rows x 22 columns]"
      ]
     },
     "execution_count": 16,
     "metadata": {},
     "output_type": "execute_result"
    }
   ],
   "source": [
    "#Understand Numerical feature\n",
    "mobile_df.describe()"
   ]
  },
  {
   "cell_type": "code",
   "execution_count": 17,
   "id": "e4277e34",
   "metadata": {},
   "outputs": [],
   "source": [
    "#check the feature distribution\n",
    "import matplotlib.pyplot as plt\n",
    "import seaborn as sns"
   ]
  },
  {
   "cell_type": "code",
   "execution_count": 18,
   "id": "b42fb247",
   "metadata": {},
   "outputs": [],
   "source": [
    "plt.style.use('ggplot')"
   ]
  },
  {
   "cell_type": "code",
   "execution_count": 19,
   "id": "e9590db9",
   "metadata": {},
   "outputs": [
    {
     "data": {
      "text/plain": [
       "<AxesSubplot:xlabel='price_range', ylabel='talk_time'>"
      ]
     },
     "execution_count": 19,
     "metadata": {},
     "output_type": "execute_result"
    },
    {
     "data": {
      "image/png": "[encoded data removed]",
      "text/plain": [
       "<Figure size 720x4320 with 14 Axes>"
      ]
     },
     "metadata": {},
     "output_type": "display_data"
    }
   ],
   "source": [
    "_,axes = plt.subplots(7,2,figsize = [10,60])\n",
    "sns.boxplot(x = 'price_range', y = 'battery_power', data = mobile_df , ax= axes[0][0])#higher the better\n",
    "sns.boxplot(x = 'price_range', y = 'clock_speed', data = mobile_df , ax= axes[0][1]) #doesn't seem to be correleated\n",
    "sns.boxplot(x = 'price_range', y = 'fc',data = mobile_df , ax= axes[1][0]) #have outliers, doesn't seem to be correlated \n",
    "sns.boxplot(x = 'price_range', y = 'int_memory',data = mobile_df , ax= axes[1][1]) #doesn't seem to be correlated\n",
    "sns.boxplot(x = 'price_range', y = 'm_dep',data = mobile_df , ax= axes[2][0]) #doesn't seem to be correlated\n",
    "sns.boxplot(x = 'price_range', y = 'mobile_wt',data = mobile_df , ax= axes[2][1]) #doesn't seem to be correlated\n",
    "sns.boxplot(x = 'price_range', y = 'n_cores',data = mobile_df , ax= axes[3][0]) # doesn't seem to be correlated\n",
    "sns.boxplot(x = 'price_range', y = 'pc',data = mobile_df , ax= axes[3][1]) #seem to be positivey correlated\n",
    "sns.boxplot(x = 'price_range', y = 'px_height',data = mobile_df , ax= axes[4][0]) # seen to be positively correlated\n",
    "sns.boxplot(x = 'price_range', y = 'px_width',data = mobile_df , ax= axes[4][1]) #seem to be positively correlated\n",
    "sns.boxplot(x = 'price_range', y = 'ram',data = mobile_df , ax= axes[5][0])  #higher the beter, exists outlier\n",
    "sns.boxplot(x = 'price_range', y = 'sc_h',data = mobile_df , ax= axes[5][1]) #doesn't seem to be correlated\n",
    "sns.boxplot(x = 'price_range', y = 'sc_w',data = mobile_df , ax= axes[6][0]) #doesn't seem to be correlated\n",
    "sns.boxplot(x = 'price_range', y = 'talk_time',data = mobile_df , ax= axes[6][1]) #doesn't seem to be correlated\n",
    " \n",
    "\n",
    "\n"
   ]
  },
  {
   "cell_type": "code",
   "execution_count": 20,
   "id": "1a681019",
   "metadata": {},
   "outputs": [
    {
     "data": {
      "text/plain": [
       "<AxesSubplot:>"
      ]
     },
     "execution_count": 20,
     "metadata": {},
     "output_type": "execute_result"
    },
    {
     "data": {
      "image/png": "[encoded data removed]",
      "text/plain": [
       "<Figure size 432x288 with 2 Axes>"
      ]
     },
     "metadata": {},
     "output_type": "display_data"
    }
   ],
   "source": [
    "corr_score = mobile_df[['battery_power','clock_speed','fc','int_memory','m_dep','mobile_wt','n_cores',\\\n",
    "                       'pc','px_height','px_width','ram','sc_h','sc_w','talk_time']].corr()\n",
    "sns.heatmap(corr_score)\n",
    "#sc and fc, height and weight, which is expectable"
   ]
  },
  {
   "cell_type": "code",
   "execution_count": 21,
   "id": "10fef68d",
   "metadata": {},
   "outputs": [
    {
     "data": {
      "text/html": [
       "<div>\n",
       "<style scoped>\n",
       "    .dataframe tbody tr th:only-of-type {\n",
       "        vertical-align: middle;\n",
       "    }\n",
       "\n",
       "    .dataframe tbody tr th {\n",
       "        vertical-align: top;\n",
       "    }\n",
       "\n",
       "    .dataframe thead th {\n",
       "        text-align: right;\n",
       "    }\n",
       "</style>\n",
       "<table border=\"1\" class=\"dataframe\">\n",
       "  <thead>\n",
       "    <tr style=\"text-align: right;\">\n",
       "      <th></th>\n",
       "      <th>fc</th>\n",
       "      <th>pc</th>\n",
       "      <th>px_height</th>\n",
       "      <th>px_width</th>\n",
       "      <th>sc_h</th>\n",
       "      <th>sc_w</th>\n",
       "    </tr>\n",
       "  </thead>\n",
       "  <tbody>\n",
       "    <tr>\n",
       "      <th>fc</th>\n",
       "      <td>1.000000</td>\n",
       "      <td>0.645880</td>\n",
       "      <td>-0.001558</td>\n",
       "      <td>-0.004116</td>\n",
       "      <td>-0.012501</td>\n",
       "      <td>-0.017689</td>\n",
       "    </tr>\n",
       "    <tr>\n",
       "      <th>pc</th>\n",
       "      <td>0.645880</td>\n",
       "      <td>1.000000</td>\n",
       "      <td>-0.021050</td>\n",
       "      <td>-0.004242</td>\n",
       "      <td>0.000101</td>\n",
       "      <td>-0.019056</td>\n",
       "    </tr>\n",
       "    <tr>\n",
       "      <th>px_height</th>\n",
       "      <td>-0.001558</td>\n",
       "      <td>-0.021050</td>\n",
       "      <td>1.000000</td>\n",
       "      <td>0.514228</td>\n",
       "      <td>0.060553</td>\n",
       "      <td>0.043699</td>\n",
       "    </tr>\n",
       "    <tr>\n",
       "      <th>px_width</th>\n",
       "      <td>-0.004116</td>\n",
       "      <td>-0.004242</td>\n",
       "      <td>0.514228</td>\n",
       "      <td>1.000000</td>\n",
       "      <td>0.033194</td>\n",
       "      <td>0.035759</td>\n",
       "    </tr>\n",
       "    <tr>\n",
       "      <th>sc_h</th>\n",
       "      <td>-0.012501</td>\n",
       "      <td>0.000101</td>\n",
       "      <td>0.060553</td>\n",
       "      <td>0.033194</td>\n",
       "      <td>1.000000</td>\n",
       "      <td>0.524451</td>\n",
       "    </tr>\n",
       "    <tr>\n",
       "      <th>sc_w</th>\n",
       "      <td>-0.017689</td>\n",
       "      <td>-0.019056</td>\n",
       "      <td>0.043699</td>\n",
       "      <td>0.035759</td>\n",
       "      <td>0.524451</td>\n",
       "      <td>1.000000</td>\n",
       "    </tr>\n",
       "  </tbody>\n",
       "</table>\n",
       "</div>"
      ],
      "text/plain": [
       "                 fc        pc  px_height  px_width      sc_h      sc_w\n",
       "fc         1.000000  0.645880  -0.001558 -0.004116 -0.012501 -0.017689\n",
       "pc         0.645880  1.000000  -0.021050 -0.004242  0.000101 -0.019056\n",
       "px_height -0.001558 -0.021050   1.000000  0.514228  0.060553  0.043699\n",
       "px_width  -0.004116 -0.004242   0.514228  1.000000  0.033194  0.035759\n",
       "sc_h      -0.012501  0.000101   0.060553  0.033194  1.000000  0.524451\n",
       "sc_w      -0.017689 -0.019056   0.043699  0.035759  0.524451  1.000000"
      ]
     },
     "execution_count": 21,
     "metadata": {},
     "output_type": "execute_result"
    }
   ],
   "source": [
    "corr_score = mobile_df[['fc','pc','px_height','px_width','sc_h','sc_w']].corr()\n",
    "corr_score"
   ]
  },
  {
   "cell_type": "code",
   "execution_count": 22,
   "id": "8e63776c",
   "metadata": {
    "scrolled": true
   },
   "outputs": [
    {
     "data": {
      "text/plain": [
       "<AxesSubplot:xlabel='price_range', ylabel='count'>"
      ]
     },
     "execution_count": 22,
     "metadata": {},
     "output_type": "execute_result"
    },
    {
     "data": {
      "image/png": "[encoded data removed]",
      "text/plain": [
       "<Figure size 1440x1080 with 6 Axes>"
      ]
     },
     "metadata": {},
     "output_type": "display_data"
    }
   ],
   "source": [
    "#now understand cateforical feature\n",
    "#blue,dual_sim,four_g,three_g,touch_screen, wifi and price_range are all categorical\n",
    "fig,axes = plt.subplots(3,2,figsize = [20,15])\n",
    "fig.suptitle('Categorical data', fontsize=16)\n",
    "sns.countplot(x = 'price_range', hue = 'blue', data = mobile_df, ax = axes[0][0])\n",
    "sns.countplot(x = 'price_range', hue = 'dual_sim', data = mobile_df, ax = axes[0][1])\n",
    "sns.countplot(x = 'price_range', hue = 'four_g', data = mobile_df, ax = axes[1][0])\n",
    "sns.countplot(x = 'price_range', hue = 'three_g', data = mobile_df, ax = axes[1][1])\n",
    "sns.countplot(x = 'price_range', hue = 'touch_screen', data = mobile_df, ax = axes[2][0])\n",
    "sns.countplot(x = 'price_range', hue = 'wifi', data = mobile_df, ax = axes[2][1])\n",
    "#bluttooth, dual_sim,four_g  and wifi seems to all favour the mobile pirce to some extent"
   ]
  },
  {
   "cell_type": "code",
   "execution_count": 23,
   "id": "f0eff51b",
   "metadata": {},
   "outputs": [
    {
     "name": "stderr",
     "output_type": "stream",
     "text": [
      "/Users/benson_li/opt/anaconda3/lib/python3.8/site-packages/seaborn/distributions.py:2557: FutureWarning: `distplot` is a deprecated function and will be removed in a future version. Please adapt your code to use either `displot` (a figure-level function with similar flexibility) or `histplot` (an axes-level function for histograms).\n",
      "  warnings.warn(msg, FutureWarning)\n",
      "/Users/benson_li/opt/anaconda3/lib/python3.8/site-packages/seaborn/distributions.py:2557: FutureWarning: `distplot` is a deprecated function and will be removed in a future version. Please adapt your code to use either `displot` (a figure-level function with similar flexibility) or `histplot` (an axes-level function for histograms).\n",
      "  warnings.warn(msg, FutureWarning)\n",
      "/Users/benson_li/opt/anaconda3/lib/python3.8/site-packages/seaborn/distributions.py:2557: FutureWarning: `distplot` is a deprecated function and will be removed in a future version. Please adapt your code to use either `displot` (a figure-level function with similar flexibility) or `histplot` (an axes-level function for histograms).\n",
      "  warnings.warn(msg, FutureWarning)\n",
      "/Users/benson_li/opt/anaconda3/lib/python3.8/site-packages/seaborn/distributions.py:2557: FutureWarning: `distplot` is a deprecated function and will be removed in a future version. Please adapt your code to use either `displot` (a figure-level function with similar flexibility) or `histplot` (an axes-level function for histograms).\n",
      "  warnings.warn(msg, FutureWarning)\n"
     ]
    },
    {
     "data": {
      "text/plain": [
       "<AxesSubplot:xlabel='ram', ylabel='Density'>"
      ]
     },
     "execution_count": 23,
     "metadata": {},
     "output_type": "execute_result"
    },
    {
     "data": {
      "image/png": "[encoded data removed]",
      "text/plain": [
       "<Figure size 1440x1440 with 4 Axes>"
      ]
     },
     "metadata": {},
     "output_type": "display_data"
    }
   ],
   "source": [
    "#Check distribution and outlier if we witness outlier point in the previous box plots.\n",
    "_,axes = plt.subplots(2,2,figsize = [20,20])\n",
    "sns.distplot(mobile_df.price_range, ax= axes[0][0])#higher the better\n",
    "sns.distplot(mobile_df.fc, ax= axes[0][1]) #doesn't seem to be correleated\n",
    "sns.distplot(mobile_df.px_height, ax= axes[1][0]) #have outliers, doesn't seem to be correlated \n",
    "sns.distplot(mobile_df.ram, ax= axes[1][1]) #doesn't seem to be correlated\n",
    "\n",
    "#From the graph we don't think there is a need to handel outlier"
   ]
  },
  {
   "cell_type": "markdown",
   "id": "871d9c42",
   "metadata": {},
   "source": [
    "## Part 2: Feature Preprocessing"
   ]
  },
  {
   "cell_type": "markdown",
   "id": "10e2514f",
   "metadata": {},
   "source": [
    "### Part 2.1: Combine Features"
   ]
  },
  {
   "cell_type": "code",
   "execution_count": 24,
   "id": "fbc7659c",
   "metadata": {},
   "outputs": [],
   "source": [
    "#feature combine\n",
    "\n",
    "mobile_df['sc_size'] = np.sqrt(mobile_df['sc_h']**2 + mobile_df['sc_w']**2) # 屏幕尺寸\n",
    "mobile_df['pixel_size'] = mobile_df['px_height']* mobile_df['px_width'] # 像素尺寸\n",
    "to_drop = ['sc_h','sc_w','price_range','px_height','px_width']\n",
    "X = mobile_df.drop(to_drop, axis = 1)\n"
   ]
  },
  {
   "cell_type": "code",
   "execution_count": 25,
   "id": "4356db63",
   "metadata": {},
   "outputs": [
    {
     "data": {
      "text/plain": [
       "<AxesSubplot:>"
      ]
     },
     "execution_count": 25,
     "metadata": {},
     "output_type": "execute_result"
    },
    {
     "data": {
      "image/png": "[encoded data removed]",
      "text/plain": [
       "<Figure size 432x288 with 2 Axes>"
      ]
     },
     "metadata": {},
     "output_type": "display_data"
    }
   ],
   "source": [
    "corr_score = X[['battery_power','clock_speed','fc','int_memory','m_dep','mobile_wt','n_cores',\\\n",
    "                       'pc','sc_size','pixel_size' ]].corr()\n",
    "sns.heatmap(corr_score)"
   ]
  },
  {
   "cell_type": "code",
   "execution_count": 26,
   "id": "028a9d75",
   "metadata": {},
   "outputs": [
    {
     "data": {
      "text/html": [
       "<div>\n",
       "<style scoped>\n",
       "    .dataframe tbody tr th:only-of-type {\n",
       "        vertical-align: middle;\n",
       "    }\n",
       "\n",
       "    .dataframe tbody tr th {\n",
       "        vertical-align: top;\n",
       "    }\n",
       "\n",
       "    .dataframe thead th {\n",
       "        text-align: right;\n",
       "    }\n",
       "</style>\n",
       "<table border=\"1\" class=\"dataframe\">\n",
       "  <thead>\n",
       "    <tr style=\"text-align: right;\">\n",
       "      <th></th>\n",
       "      <th>index</th>\n",
       "      <th>battery_power</th>\n",
       "      <th>blue</th>\n",
       "      <th>clock_speed</th>\n",
       "      <th>dual_sim</th>\n",
       "      <th>fc</th>\n",
       "      <th>four_g</th>\n",
       "      <th>int_memory</th>\n",
       "      <th>m_dep</th>\n",
       "      <th>mobile_wt</th>\n",
       "      <th>n_cores</th>\n",
       "      <th>pc</th>\n",
       "      <th>ram</th>\n",
       "      <th>talk_time</th>\n",
       "      <th>three_g</th>\n",
       "      <th>touch_screen</th>\n",
       "      <th>wifi</th>\n",
       "      <th>sc_size</th>\n",
       "      <th>pixel_size</th>\n",
       "    </tr>\n",
       "  </thead>\n",
       "  <tbody>\n",
       "    <tr>\n",
       "      <th>0</th>\n",
       "      <td>0</td>\n",
       "      <td>842</td>\n",
       "      <td>0</td>\n",
       "      <td>2.2</td>\n",
       "      <td>0</td>\n",
       "      <td>1</td>\n",
       "      <td>0</td>\n",
       "      <td>7</td>\n",
       "      <td>0.6</td>\n",
       "      <td>188</td>\n",
       "      <td>2</td>\n",
       "      <td>2</td>\n",
       "      <td>2549</td>\n",
       "      <td>19</td>\n",
       "      <td>0</td>\n",
       "      <td>0</td>\n",
       "      <td>1</td>\n",
       "      <td>11.401754</td>\n",
       "      <td>15120</td>\n",
       "    </tr>\n",
       "    <tr>\n",
       "      <th>1</th>\n",
       "      <td>1</td>\n",
       "      <td>1021</td>\n",
       "      <td>1</td>\n",
       "      <td>0.5</td>\n",
       "      <td>1</td>\n",
       "      <td>0</td>\n",
       "      <td>1</td>\n",
       "      <td>53</td>\n",
       "      <td>0.7</td>\n",
       "      <td>136</td>\n",
       "      <td>3</td>\n",
       "      <td>6</td>\n",
       "      <td>2631</td>\n",
       "      <td>7</td>\n",
       "      <td>1</td>\n",
       "      <td>1</td>\n",
       "      <td>0</td>\n",
       "      <td>17.262677</td>\n",
       "      <td>1799140</td>\n",
       "    </tr>\n",
       "    <tr>\n",
       "      <th>2</th>\n",
       "      <td>2</td>\n",
       "      <td>563</td>\n",
       "      <td>1</td>\n",
       "      <td>0.5</td>\n",
       "      <td>1</td>\n",
       "      <td>2</td>\n",
       "      <td>1</td>\n",
       "      <td>41</td>\n",
       "      <td>0.9</td>\n",
       "      <td>145</td>\n",
       "      <td>5</td>\n",
       "      <td>6</td>\n",
       "      <td>2603</td>\n",
       "      <td>9</td>\n",
       "      <td>1</td>\n",
       "      <td>1</td>\n",
       "      <td>0</td>\n",
       "      <td>11.180340</td>\n",
       "      <td>2167308</td>\n",
       "    </tr>\n",
       "    <tr>\n",
       "      <th>3</th>\n",
       "      <td>3</td>\n",
       "      <td>615</td>\n",
       "      <td>1</td>\n",
       "      <td>2.5</td>\n",
       "      <td>0</td>\n",
       "      <td>0</td>\n",
       "      <td>0</td>\n",
       "      <td>10</td>\n",
       "      <td>0.8</td>\n",
       "      <td>131</td>\n",
       "      <td>6</td>\n",
       "      <td>9</td>\n",
       "      <td>2769</td>\n",
       "      <td>11</td>\n",
       "      <td>1</td>\n",
       "      <td>0</td>\n",
       "      <td>0</td>\n",
       "      <td>17.888544</td>\n",
       "      <td>2171776</td>\n",
       "    </tr>\n",
       "    <tr>\n",
       "      <th>4</th>\n",
       "      <td>4</td>\n",
       "      <td>1821</td>\n",
       "      <td>1</td>\n",
       "      <td>1.2</td>\n",
       "      <td>0</td>\n",
       "      <td>13</td>\n",
       "      <td>1</td>\n",
       "      <td>44</td>\n",
       "      <td>0.6</td>\n",
       "      <td>141</td>\n",
       "      <td>2</td>\n",
       "      <td>14</td>\n",
       "      <td>1411</td>\n",
       "      <td>15</td>\n",
       "      <td>1</td>\n",
       "      <td>1</td>\n",
       "      <td>0</td>\n",
       "      <td>8.246211</td>\n",
       "      <td>1464096</td>\n",
       "    </tr>\n",
       "  </tbody>\n",
       "</table>\n",
       "</div>"
      ],
      "text/plain": [
       "   index  battery_power  blue  clock_speed  dual_sim  fc  four_g  int_memory  \\\n",
       "0      0            842     0          2.2         0   1       0           7   \n",
       "1      1           1021     1          0.5         1   0       1          53   \n",
       "2      2            563     1          0.5         1   2       1          41   \n",
       "3      3            615     1          2.5         0   0       0          10   \n",
       "4      4           1821     1          1.2         0  13       1          44   \n",
       "\n",
       "   m_dep  mobile_wt  n_cores  pc   ram  talk_time  three_g  touch_screen  \\\n",
       "0    0.6        188        2   2  2549         19        0             0   \n",
       "1    0.7        136        3   6  2631          7        1             1   \n",
       "2    0.9        145        5   6  2603          9        1             1   \n",
       "3    0.8        131        6   9  2769         11        1             0   \n",
       "4    0.6        141        2  14  1411         15        1             1   \n",
       "\n",
       "   wifi    sc_size  pixel_size  \n",
       "0     1  11.401754       15120  \n",
       "1     0  17.262677     1799140  \n",
       "2     0  11.180340     2167308  \n",
       "3     0  17.888544     2171776  \n",
       "4     0   8.246211     1464096  "
      ]
     },
     "execution_count": 26,
     "metadata": {},
     "output_type": "execute_result"
    }
   ],
   "source": [
    "X.head()"
   ]
  },
  {
   "cell_type": "code",
   "execution_count": 27,
   "id": "4f488081",
   "metadata": {},
   "outputs": [
    {
     "data": {
      "text/html": [
       "<div>\n",
       "<style scoped>\n",
       "    .dataframe tbody tr th:only-of-type {\n",
       "        vertical-align: middle;\n",
       "    }\n",
       "\n",
       "    .dataframe tbody tr th {\n",
       "        vertical-align: top;\n",
       "    }\n",
       "\n",
       "    .dataframe thead th {\n",
       "        text-align: right;\n",
       "    }\n",
       "</style>\n",
       "<table border=\"1\" class=\"dataframe\">\n",
       "  <thead>\n",
       "    <tr style=\"text-align: right;\">\n",
       "      <th></th>\n",
       "      <th>index</th>\n",
       "      <th>battery_power</th>\n",
       "      <th>blue</th>\n",
       "      <th>clock_speed</th>\n",
       "      <th>dual_sim</th>\n",
       "      <th>fc</th>\n",
       "      <th>four_g</th>\n",
       "      <th>int_memory</th>\n",
       "      <th>m_dep</th>\n",
       "      <th>mobile_wt</th>\n",
       "      <th>n_cores</th>\n",
       "      <th>pc</th>\n",
       "      <th>ram</th>\n",
       "      <th>talk_time</th>\n",
       "      <th>three_g</th>\n",
       "      <th>touch_screen</th>\n",
       "      <th>wifi</th>\n",
       "      <th>sc_size</th>\n",
       "      <th>pixel_size</th>\n",
       "    </tr>\n",
       "  </thead>\n",
       "  <tbody>\n",
       "    <tr>\n",
       "      <th>1814</th>\n",
       "      <td>1995</td>\n",
       "      <td>794</td>\n",
       "      <td>1</td>\n",
       "      <td>0.5</td>\n",
       "      <td>1</td>\n",
       "      <td>0</td>\n",
       "      <td>1</td>\n",
       "      <td>2</td>\n",
       "      <td>0.8</td>\n",
       "      <td>106</td>\n",
       "      <td>6</td>\n",
       "      <td>14</td>\n",
       "      <td>668</td>\n",
       "      <td>19</td>\n",
       "      <td>1</td>\n",
       "      <td>1</td>\n",
       "      <td>0</td>\n",
       "      <td>13.601471</td>\n",
       "      <td>2309580</td>\n",
       "    </tr>\n",
       "    <tr>\n",
       "      <th>1815</th>\n",
       "      <td>1996</td>\n",
       "      <td>1965</td>\n",
       "      <td>1</td>\n",
       "      <td>2.6</td>\n",
       "      <td>1</td>\n",
       "      <td>0</td>\n",
       "      <td>0</td>\n",
       "      <td>39</td>\n",
       "      <td>0.2</td>\n",
       "      <td>187</td>\n",
       "      <td>4</td>\n",
       "      <td>3</td>\n",
       "      <td>2032</td>\n",
       "      <td>16</td>\n",
       "      <td>1</td>\n",
       "      <td>1</td>\n",
       "      <td>1</td>\n",
       "      <td>14.866069</td>\n",
       "      <td>1797975</td>\n",
       "    </tr>\n",
       "    <tr>\n",
       "      <th>1816</th>\n",
       "      <td>1997</td>\n",
       "      <td>1911</td>\n",
       "      <td>0</td>\n",
       "      <td>0.9</td>\n",
       "      <td>1</td>\n",
       "      <td>1</td>\n",
       "      <td>1</td>\n",
       "      <td>36</td>\n",
       "      <td>0.7</td>\n",
       "      <td>108</td>\n",
       "      <td>8</td>\n",
       "      <td>3</td>\n",
       "      <td>3057</td>\n",
       "      <td>5</td>\n",
       "      <td>1</td>\n",
       "      <td>1</td>\n",
       "      <td>0</td>\n",
       "      <td>9.055385</td>\n",
       "      <td>1416576</td>\n",
       "    </tr>\n",
       "    <tr>\n",
       "      <th>1817</th>\n",
       "      <td>1998</td>\n",
       "      <td>1512</td>\n",
       "      <td>0</td>\n",
       "      <td>0.9</td>\n",
       "      <td>0</td>\n",
       "      <td>4</td>\n",
       "      <td>1</td>\n",
       "      <td>46</td>\n",
       "      <td>0.1</td>\n",
       "      <td>145</td>\n",
       "      <td>5</td>\n",
       "      <td>5</td>\n",
       "      <td>869</td>\n",
       "      <td>19</td>\n",
       "      <td>1</td>\n",
       "      <td>1</td>\n",
       "      <td>1</td>\n",
       "      <td>20.591260</td>\n",
       "      <td>225120</td>\n",
       "    </tr>\n",
       "    <tr>\n",
       "      <th>1818</th>\n",
       "      <td>1999</td>\n",
       "      <td>510</td>\n",
       "      <td>1</td>\n",
       "      <td>2.0</td>\n",
       "      <td>1</td>\n",
       "      <td>5</td>\n",
       "      <td>1</td>\n",
       "      <td>45</td>\n",
       "      <td>0.9</td>\n",
       "      <td>168</td>\n",
       "      <td>6</td>\n",
       "      <td>16</td>\n",
       "      <td>3919</td>\n",
       "      <td>2</td>\n",
       "      <td>1</td>\n",
       "      <td>1</td>\n",
       "      <td>1</td>\n",
       "      <td>19.416488</td>\n",
       "      <td>364182</td>\n",
       "    </tr>\n",
       "  </tbody>\n",
       "</table>\n",
       "</div>"
      ],
      "text/plain": [
       "      index  battery_power  blue  clock_speed  dual_sim  fc  four_g  \\\n",
       "1814   1995            794     1          0.5         1   0       1   \n",
       "1815   1996           1965     1          2.6         1   0       0   \n",
       "1816   1997           1911     0          0.9         1   1       1   \n",
       "1817   1998           1512     0          0.9         0   4       1   \n",
       "1818   1999            510     1          2.0         1   5       1   \n",
       "\n",
       "      int_memory  m_dep  mobile_wt  n_cores  pc   ram  talk_time  three_g  \\\n",
       "1814           2    0.8        106        6  14   668         19        1   \n",
       "1815          39    0.2        187        4   3  2032         16        1   \n",
       "1816          36    0.7        108        8   3  3057          5        1   \n",
       "1817          46    0.1        145        5   5   869         19        1   \n",
       "1818          45    0.9        168        6  16  3919          2        1   \n",
       "\n",
       "      touch_screen  wifi    sc_size  pixel_size  \n",
       "1814             1     0  13.601471     2309580  \n",
       "1815             1     1  14.866069     1797975  \n",
       "1816             1     0   9.055385     1416576  \n",
       "1817             1     1  20.591260      225120  \n",
       "1818             1     1  19.416488      364182  "
      ]
     },
     "execution_count": 27,
     "metadata": {},
     "output_type": "execute_result"
    }
   ],
   "source": [
    "X.tail()"
   ]
  },
  {
   "cell_type": "code",
   "execution_count": 28,
   "id": "e3a0a05c",
   "metadata": {},
   "outputs": [
    {
     "data": {
      "text/plain": [
       "index              int64\n",
       "battery_power      int64\n",
       "blue               int64\n",
       "clock_speed      float64\n",
       "dual_sim           int64\n",
       "fc                 int64\n",
       "four_g             int64\n",
       "int_memory         int64\n",
       "m_dep            float64\n",
       "mobile_wt          int64\n",
       "n_cores            int64\n",
       "pc                 int64\n",
       "ram                int64\n",
       "talk_time          int64\n",
       "three_g            int64\n",
       "touch_screen       int64\n",
       "wifi               int64\n",
       "sc_size          float64\n",
       "pixel_size         int64\n",
       "dtype: object"
      ]
     },
     "execution_count": 28,
     "metadata": {},
     "output_type": "execute_result"
    }
   ],
   "source": [
    "X.dtypes"
   ]
  },
  {
   "cell_type": "markdown",
   "id": "b4ad25e6",
   "metadata": {},
   "source": [
    "### Part 2.2 : Split DataSet"
   ]
  },
  {
   "cell_type": "code",
   "execution_count": 29,
   "id": "b86c61f6",
   "metadata": {},
   "outputs": [],
   "source": [
    "cat_cols = X.columns[X.nunique() == 2]\n",
    "num_cols = X.columns[X.nunique() != 2]"
   ]
  },
  {
   "cell_type": "code",
   "execution_count": 30,
   "id": "e8d37812",
   "metadata": {},
   "outputs": [
    {
     "name": "stdout",
     "output_type": "stream",
     "text": [
      "Index(['index', 'battery_power', 'clock_speed', 'fc', 'int_memory', 'm_dep',\n",
      "       'mobile_wt', 'n_cores', 'pc', 'ram', 'talk_time', 'sc_size',\n",
      "       'pixel_size'],\n",
      "      dtype='object')\n"
     ]
    }
   ],
   "source": [
    "print(num_cols)"
   ]
  },
  {
   "cell_type": "code",
   "execution_count": 31,
   "id": "be51f76f",
   "metadata": {},
   "outputs": [
    {
     "name": "stdout",
     "output_type": "stream",
     "text": [
      "training data has 1364 observation with 19 features\n",
      "test data has 455 observation with 19 features\n"
     ]
    }
   ],
   "source": [
    "from sklearn import model_selection\n",
    "\n",
    "X_train, X_test, y_train, y_test = model_selection.train_test_split(X,y,test_size = 0.25, stratify = y, random_state = 1) #stratified sampling\n",
    "\n",
    "print('training data has ' + str(X_train.shape[0]) + ' observation with ' + str(X_train.shape[1]) + ' features')\n",
    "print('test data has ' + str(X_test.shape[0]) + ' observation with ' + str(X_test.shape[1]) + ' features')"
   ]
  },
  {
   "cell_type": "markdown",
   "id": "92d3749b",
   "metadata": {},
   "source": [
    "### Part 2.3: Standardize/Normalize Data"
   ]
  },
  {
   "cell_type": "code",
   "execution_count": 32,
   "id": "1762c035",
   "metadata": {},
   "outputs": [
    {
     "name": "stderr",
     "output_type": "stream",
     "text": [
      "<ipython-input-32-f2c586bd8531>:4: SettingWithCopyWarning: \n",
      "A value is trying to be set on a copy of a slice from a DataFrame.\n",
      "Try using .loc[row_indexer,col_indexer] = value instead\n",
      "\n",
      "See the caveats in the documentation: https://pandas.pydata.org/pandas-docs/stable/user_guide/indexing.html#returning-a-view-versus-a-copy\n",
      "  X_train[num_cols] = scaler.transform(X_train[num_cols])\n",
      "/Users/benson_li/opt/anaconda3/lib/python3.8/site-packages/pandas/core/indexing.py:1738: SettingWithCopyWarning: \n",
      "A value is trying to be set on a copy of a slice from a DataFrame.\n",
      "Try using .loc[row_indexer,col_indexer] = value instead\n",
      "\n",
      "See the caveats in the documentation: https://pandas.pydata.org/pandas-docs/stable/user_guide/indexing.html#returning-a-view-versus-a-copy\n",
      "  self._setitem_single_column(loc, value[:, i].tolist(), pi)\n",
      "<ipython-input-32-f2c586bd8531>:5: SettingWithCopyWarning: \n",
      "A value is trying to be set on a copy of a slice from a DataFrame.\n",
      "Try using .loc[row_indexer,col_indexer] = value instead\n",
      "\n",
      "See the caveats in the documentation: https://pandas.pydata.org/pandas-docs/stable/user_guide/indexing.html#returning-a-view-versus-a-copy\n",
      "  X_test[num_cols] = scaler.transform(X_test[num_cols])\n",
      "/Users/benson_li/opt/anaconda3/lib/python3.8/site-packages/pandas/core/indexing.py:1738: SettingWithCopyWarning: \n",
      "A value is trying to be set on a copy of a slice from a DataFrame.\n",
      "Try using .loc[row_indexer,col_indexer] = value instead\n",
      "\n",
      "See the caveats in the documentation: https://pandas.pydata.org/pandas-docs/stable/user_guide/indexing.html#returning-a-view-versus-a-copy\n",
      "  self._setitem_single_column(loc, value[:, i].tolist(), pi)\n"
     ]
    }
   ],
   "source": [
    "from sklearn.preprocessing import StandardScaler\n",
    "scaler = StandardScaler()\n",
    "scaler.fit(X_train[num_cols])\n",
    "X_train[num_cols] = scaler.transform(X_train[num_cols])\n",
    "X_test[num_cols] = scaler.transform(X_test[num_cols])"
   ]
  },
  {
   "cell_type": "code",
   "execution_count": 33,
   "id": "cd8349fc",
   "metadata": {},
   "outputs": [
    {
     "data": {
      "text/html": [
       "<div>\n",
       "<style scoped>\n",
       "    .dataframe tbody tr th:only-of-type {\n",
       "        vertical-align: middle;\n",
       "    }\n",
       "\n",
       "    .dataframe tbody tr th {\n",
       "        vertical-align: top;\n",
       "    }\n",
       "\n",
       "    .dataframe thead th {\n",
       "        text-align: right;\n",
       "    }\n",
       "</style>\n",
       "<table border=\"1\" class=\"dataframe\">\n",
       "  <thead>\n",
       "    <tr style=\"text-align: right;\">\n",
       "      <th></th>\n",
       "      <th>index</th>\n",
       "      <th>battery_power</th>\n",
       "      <th>blue</th>\n",
       "      <th>clock_speed</th>\n",
       "      <th>dual_sim</th>\n",
       "      <th>fc</th>\n",
       "      <th>four_g</th>\n",
       "      <th>int_memory</th>\n",
       "      <th>m_dep</th>\n",
       "      <th>mobile_wt</th>\n",
       "      <th>n_cores</th>\n",
       "      <th>pc</th>\n",
       "      <th>ram</th>\n",
       "      <th>talk_time</th>\n",
       "      <th>three_g</th>\n",
       "      <th>touch_screen</th>\n",
       "      <th>wifi</th>\n",
       "      <th>sc_size</th>\n",
       "      <th>pixel_size</th>\n",
       "    </tr>\n",
       "  </thead>\n",
       "  <tbody>\n",
       "    <tr>\n",
       "      <th>985</th>\n",
       "      <td>0.154651</td>\n",
       "      <td>0.226379</td>\n",
       "      <td>0</td>\n",
       "      <td>-0.485759</td>\n",
       "      <td>0</td>\n",
       "      <td>1.586185</td>\n",
       "      <td>0</td>\n",
       "      <td>0.273074</td>\n",
       "      <td>0.680813</td>\n",
       "      <td>-0.415613</td>\n",
       "      <td>1.078425</td>\n",
       "      <td>1.705561</td>\n",
       "      <td>0.019370</td>\n",
       "      <td>-1.285808</td>\n",
       "      <td>1</td>\n",
       "      <td>0</td>\n",
       "      <td>0</td>\n",
       "      <td>-0.848737</td>\n",
       "      <td>1.095530</td>\n",
       "    </tr>\n",
       "    <tr>\n",
       "      <th>408</th>\n",
       "      <td>-0.943677</td>\n",
       "      <td>0.133361</td>\n",
       "      <td>0</td>\n",
       "      <td>-0.733035</td>\n",
       "      <td>0</td>\n",
       "      <td>1.352008</td>\n",
       "      <td>1</td>\n",
       "      <td>-0.386559</td>\n",
       "      <td>1.716074</td>\n",
       "      <td>1.057139</td>\n",
       "      <td>0.639198</td>\n",
       "      <td>0.368942</td>\n",
       "      <td>-1.008261</td>\n",
       "      <td>0.004324</td>\n",
       "      <td>1</td>\n",
       "      <td>1</td>\n",
       "      <td>0</td>\n",
       "      <td>-1.585338</td>\n",
       "      <td>-0.255922</td>\n",
       "    </tr>\n",
       "    <tr>\n",
       "      <th>589</th>\n",
       "      <td>-0.603718</td>\n",
       "      <td>-0.268208</td>\n",
       "      <td>1</td>\n",
       "      <td>-1.227586</td>\n",
       "      <td>1</td>\n",
       "      <td>-0.755579</td>\n",
       "      <td>0</td>\n",
       "      <td>1.152585</td>\n",
       "      <td>0.335726</td>\n",
       "      <td>-0.557224</td>\n",
       "      <td>-0.239256</td>\n",
       "      <td>1.037252</td>\n",
       "      <td>1.381919</td>\n",
       "      <td>1.663065</td>\n",
       "      <td>1</td>\n",
       "      <td>1</td>\n",
       "      <td>0</td>\n",
       "      <td>-1.330028</td>\n",
       "      <td>-0.878299</td>\n",
       "    </tr>\n",
       "    <tr>\n",
       "      <th>1041</th>\n",
       "      <td>0.255766</td>\n",
       "      <td>1.571748</td>\n",
       "      <td>0</td>\n",
       "      <td>-0.238483</td>\n",
       "      <td>0</td>\n",
       "      <td>-0.287227</td>\n",
       "      <td>0</td>\n",
       "      <td>-0.441529</td>\n",
       "      <td>1.716074</td>\n",
       "      <td>-1.548499</td>\n",
       "      <td>-0.239256</td>\n",
       "      <td>-0.967677</td>\n",
       "      <td>0.305789</td>\n",
       "      <td>0.741542</td>\n",
       "      <td>1</td>\n",
       "      <td>1</td>\n",
       "      <td>0</td>\n",
       "      <td>-1.012917</td>\n",
       "      <td>0.248210</td>\n",
       "    </tr>\n",
       "    <tr>\n",
       "      <th>1281</th>\n",
       "      <td>0.716018</td>\n",
       "      <td>1.685185</td>\n",
       "      <td>1</td>\n",
       "      <td>-1.227586</td>\n",
       "      <td>1</td>\n",
       "      <td>-0.287227</td>\n",
       "      <td>0</td>\n",
       "      <td>-0.606437</td>\n",
       "      <td>1.025900</td>\n",
       "      <td>-1.293600</td>\n",
       "      <td>1.517652</td>\n",
       "      <td>-0.466445</td>\n",
       "      <td>-0.385094</td>\n",
       "      <td>-0.548590</td>\n",
       "      <td>0</td>\n",
       "      <td>0</td>\n",
       "      <td>1</td>\n",
       "      <td>0.252731</td>\n",
       "      <td>-1.009514</td>\n",
       "    </tr>\n",
       "  </tbody>\n",
       "</table>\n",
       "</div>"
      ],
      "text/plain": [
       "         index  battery_power  blue  clock_speed  dual_sim        fc  four_g  \\\n",
       "985   0.154651       0.226379     0    -0.485759         0  1.586185       0   \n",
       "408  -0.943677       0.133361     0    -0.733035         0  1.352008       1   \n",
       "589  -0.603718      -0.268208     1    -1.227586         1 -0.755579       0   \n",
       "1041  0.255766       1.571748     0    -0.238483         0 -0.287227       0   \n",
       "1281  0.716018       1.685185     1    -1.227586         1 -0.287227       0   \n",
       "\n",
       "      int_memory     m_dep  mobile_wt   n_cores        pc       ram  \\\n",
       "985     0.273074  0.680813  -0.415613  1.078425  1.705561  0.019370   \n",
       "408    -0.386559  1.716074   1.057139  0.639198  0.368942 -1.008261   \n",
       "589     1.152585  0.335726  -0.557224 -0.239256  1.037252  1.381919   \n",
       "1041   -0.441529  1.716074  -1.548499 -0.239256 -0.967677  0.305789   \n",
       "1281   -0.606437  1.025900  -1.293600  1.517652 -0.466445 -0.385094   \n",
       "\n",
       "      talk_time  three_g  touch_screen  wifi   sc_size  pixel_size  \n",
       "985   -1.285808        1             0     0 -0.848737    1.095530  \n",
       "408    0.004324        1             1     0 -1.585338   -0.255922  \n",
       "589    1.663065        1             1     0 -1.330028   -0.878299  \n",
       "1041   0.741542        1             1     0 -1.012917    0.248210  \n",
       "1281  -0.548590        0             0     1  0.252731   -1.009514  "
      ]
     },
     "execution_count": 33,
     "metadata": {},
     "output_type": "execute_result"
    }
   ],
   "source": [
    "X_train.head()"
   ]
  },
  {
   "cell_type": "markdown",
   "id": "2fe6b6c9",
   "metadata": {},
   "source": [
    "## Part 3: Model Traing and Result Evaluation"
   ]
  },
  {
   "cell_type": "markdown",
   "id": "0b833e34",
   "metadata": {},
   "source": [
    "### Part3.1:Model Training"
   ]
  },
  {
   "cell_type": "code",
   "execution_count": 34,
   "id": "b89a11f6",
   "metadata": {},
   "outputs": [],
   "source": [
    "from sklearn.ensemble import RandomForestClassifier\n",
    "from sklearn.neighbors import KNeighborsClassifier\n",
    "from sklearn.linear_model import LogisticRegression\n",
    "from sklearn.ensemble import GradientBoostingClassifier\n",
    "\n",
    "#Logistic Regression\n",
    "classifier_logistic = LogisticRegression()\n",
    "\n",
    "#K Nearest Neighbots\n",
    "classifier_KNN = KNeighborsClassifier()\n",
    "\n",
    "#Random Forest\n",
    "classifier_RF = RandomForestClassifier()\n",
    "\n",
    "#GradientBoosting\n",
    "classidier_GB = GradientBoostingClassifier()"
   ]
  },
  {
   "cell_type": "code",
   "execution_count": 35,
   "id": "26467205",
   "metadata": {},
   "outputs": [
    {
     "name": "stdout",
     "output_type": "stream",
     "text": [
      "[0.92307692 0.93040293 0.91575092 0.93406593 0.95220588]\n",
      "Model accuracy of Logistic Regression is 0.9311005171299289\n",
      "[0.58241758 0.52014652 0.58241758 0.6007326  0.59558824]\n",
      "Model accuracy of KNN is 0.5762605042016807\n",
      "[0.84249084 0.83882784 0.84981685 0.84249084 0.86397059]\n",
      "Model accuracy of Random Forest is 0.8475193923723335\n",
      "[0.86813187 0.89377289 0.91575092 0.86813187 0.90441176]\n",
      "Model accuracy of Gradient Boosting is 0.8900398620986856\n"
     ]
    }
   ],
   "source": [
    "#Use 5-fold Cross Validation to get the accuracy for different models\n",
    "model_names = ['Logistic Regression', 'KNN' , 'Random Forest', 'Gradient Boosting' ]\n",
    "model_list = [classifier_logistic, classifier_KNN, classifier_RF, classidier_GB]\n",
    "count = 0\n",
    "\n",
    "for classifier in model_list:\n",
    "    cv_score = model_selection.cross_val_score(classifier, X_train, y_train, cv = 5)\n",
    "    print(cv_score)\n",
    "    print('Model accuracy of ' + model_names[count] + ' is ' + str(cv_score.mean()))\n",
    "    count += 1\n"
   ]
  },
  {
   "cell_type": "code",
   "execution_count": 36,
   "id": "e363afd7",
   "metadata": {},
   "outputs": [],
   "source": [
    "# We see that it seems like logistic regression works best"
   ]
  },
  {
   "cell_type": "markdown",
   "id": "c7e2d752",
   "metadata": {},
   "source": [
    "### Part 3.2: Grid Search to Find Optimal Hyperparameters"
   ]
  },
  {
   "cell_type": "code",
   "execution_count": 37,
   "id": "3c706941",
   "metadata": {},
   "outputs": [],
   "source": [
    "from sklearn.model_selection import GridSearchCV\n",
    "\n",
    "def print_grid_search_metrics(gs):\n",
    "    print(\"Best score: \"+ str(gs.best_score_))\n",
    "    print('Best parameters sets:')\n",
    "    best_parameters = gs.best_params_\n",
    "    for param_name in sorted(best_parameters.keys()):\n",
    "        print(param_name + \":\" + str(best_parameters[param_name]))"
   ]
  },
  {
   "cell_type": "markdown",
   "id": "6c42fb6d",
   "metadata": {},
   "source": [
    "#### Part 3.2.1: Logistic Regression"
   ]
  },
  {
   "cell_type": "code",
   "execution_count": 38,
   "id": "db846fba",
   "metadata": {},
   "outputs": [
    {
     "data": {
      "text/plain": [
       "GridSearchCV(cv=5, estimator=LogisticRegression(solver='liblinear'),\n",
       "             param_grid={'C': array([ 1.        ,  1.47368421,  1.94736842,  2.42105263,  2.89473684,\n",
       "        3.36842105,  3.84210526,  4.31578947,  4.78947368,  5.26315789,\n",
       "        5.73684211,  6.21052632,  6.68421053,  7.15789474,  7.63157895,\n",
       "        8.10526316,  8.57894737,  9.05263158,  9.52631579, 10.        ]),\n",
       "                         'penalty': ('l1', 'l2')})"
      ]
     },
     "execution_count": 38,
     "metadata": {},
     "output_type": "execute_result"
    }
   ],
   "source": [
    "parameters = {\n",
    "    'penalty':('l1', 'l2'),\n",
    "    'C':np.linspace(1,10,20)\n",
    "}\n",
    "Grid_LR = GridSearchCV(LogisticRegression(solver = 'liblinear'), parameters, cv=5)\n",
    "Grid_LR.fit(X_train, y_train)"
   ]
  },
  {
   "cell_type": "code",
   "execution_count": 39,
   "id": "ba286621",
   "metadata": {},
   "outputs": [
    {
     "name": "stdout",
     "output_type": "stream",
     "text": [
      "Best score: 0.8328646843352725\n",
      "Best parameters sets:\n",
      "C:5.263157894736842\n",
      "penalty:l1\n"
     ]
    }
   ],
   "source": [
    "print_grid_search_metrics(Grid_LR)"
   ]
  },
  {
   "cell_type": "code",
   "execution_count": 40,
   "id": "66e801a5",
   "metadata": {},
   "outputs": [],
   "source": [
    "#best model\n",
    "best_LR_model = Grid_LR.best_estimator_"
   ]
  },
  {
   "cell_type": "code",
   "execution_count": 41,
   "id": "e277dbc9",
   "metadata": {},
   "outputs": [
    {
     "data": {
      "text/plain": [
       "array([2, 2, 3, 3, 1, 2, 2, 1, 3, 3, 2, 0, 1, 2, 1, 2, 0, 3, 0, 0, 0, 0,\n",
       "       0, 3, 1, 1, 0, 3, 1, 1, 3, 1, 1, 1, 2, 1, 0, 0, 2, 1, 0, 1, 3, 2,\n",
       "       1, 3, 3, 1, 0, 3, 1, 3, 0, 2, 2, 2, 1, 2, 2, 3, 2, 2, 2, 0, 3, 1,\n",
       "       0, 2, 0, 2, 1, 0, 2, 3, 3, 2, 0, 1, 0, 2, 0, 3, 3, 0, 3, 3, 3, 2,\n",
       "       1, 1, 2, 1, 3, 1, 2, 3, 3, 0, 2, 2, 0, 0, 3, 0, 1, 0, 1, 3, 0, 3,\n",
       "       3, 0, 3, 1, 2, 1, 0, 2, 0, 3, 3, 2, 2, 1, 2, 2, 2, 0, 3, 2, 3, 0,\n",
       "       1, 1, 3, 0, 2, 2, 0, 3, 0, 2, 2, 2, 1, 3, 0, 1, 3, 2, 1, 1, 3, 0,\n",
       "       3, 1, 0, 3, 1, 3, 3, 1, 0, 1, 0, 0, 1, 0, 0, 2, 3, 0, 0, 1, 2, 1,\n",
       "       0, 3, 1, 1, 1, 3, 1, 1, 2, 1, 3, 1, 1, 3, 0, 3, 3, 1, 3, 1, 2, 2,\n",
       "       1, 0, 3, 1, 1, 1, 3, 0, 0, 1, 3, 3, 0, 2, 3, 0, 2, 0, 3, 0, 3, 1,\n",
       "       2, 2, 1, 3, 3, 3, 1, 3, 3, 0, 2, 1, 0, 0, 3, 1, 2, 2, 0, 0, 2, 0,\n",
       "       3, 3, 2, 0, 3, 2, 0, 2, 0, 1, 3, 2, 1, 1, 0, 0, 2, 1, 3, 1, 3, 0,\n",
       "       0, 1, 3, 0, 2, 3, 2, 2, 3, 3, 0, 1, 2, 0, 3, 2, 2, 3, 1, 1, 1, 3,\n",
       "       3, 1, 2, 3, 0, 3, 1, 3, 3, 1, 3, 1, 3, 0, 2, 3, 1, 0, 0, 3, 2, 3,\n",
       "       0, 3, 2, 2, 1, 0, 2, 1, 1, 3, 2, 2, 2, 2, 0, 3, 2, 3, 1, 1, 0, 2,\n",
       "       3, 1, 3, 3, 1, 1, 0, 2, 0, 2, 2, 3, 0, 0, 3, 1, 1, 3, 1, 2, 0, 2,\n",
       "       3, 0, 1, 3, 1, 2, 2, 0, 0, 0, 1, 1, 0, 0, 2, 2, 3, 2, 0, 3, 3, 2,\n",
       "       1, 0, 1, 0, 3, 3, 3, 0, 2, 2, 0, 3, 1, 1, 0, 1, 0, 0, 2, 2, 0, 3,\n",
       "       2, 0, 3, 3, 3, 0, 1, 0, 3, 2, 2, 2, 3, 0, 2, 1, 1, 2, 0, 2, 1, 2,\n",
       "       0, 3, 2, 1, 2, 1, 2, 2, 0, 3, 1, 3, 0, 0, 1, 1, 3, 1, 1, 3, 0, 1,\n",
       "       0, 3, 0, 0, 3, 3, 2, 3, 2, 0, 2, 0, 0, 1, 2])"
      ]
     },
     "execution_count": 41,
     "metadata": {},
     "output_type": "execute_result"
    }
   ],
   "source": [
    "best_LR_model.predict(X_test)"
   ]
  },
  {
   "cell_type": "code",
   "execution_count": 42,
   "id": "b82213fd",
   "metadata": {},
   "outputs": [
    {
     "data": {
      "text/plain": [
       "0.8197802197802198"
      ]
     },
     "execution_count": 42,
     "metadata": {},
     "output_type": "execute_result"
    }
   ],
   "source": [
    "best_LR_model.score(X_test,y_test) #not underfitting, not overfitting, no obvious difference"
   ]
  },
  {
   "cell_type": "code",
   "execution_count": 43,
   "id": "163a84b5",
   "metadata": {},
   "outputs": [
    {
     "data": {
      "image/png": "[encoded data removed]",
      "text/plain": [
       "<Figure size 432x288 with 2 Axes>"
      ]
     },
     "metadata": {},
     "output_type": "display_data"
    }
   ],
   "source": [
    "# L1 is better / L2 ; when C = 1.0\n",
    "LR_models = pd.DataFrame(Grid_LR.cv_results_)\n",
    "res = (LR_models.pivot(index = 'param_penalty', columns = 'param_C', values ='mean_test_score'))\n",
    "_=sns.heatmap(res,cmap = 'viridis')"
   ]
  },
  {
   "cell_type": "markdown",
   "id": "97b78507",
   "metadata": {},
   "source": [
    "#### Part 3.2.2 : KNN"
   ]
  },
  {
   "cell_type": "code",
   "execution_count": 44,
   "id": "9c638166",
   "metadata": {},
   "outputs": [
    {
     "data": {
      "text/plain": [
       "GridSearchCV(cv=5, estimator=KNeighborsClassifier(),\n",
       "             param_grid={'n_neighbors': [1, 3, 5, 7, 9, 11, 13, 15, 17, 19, 21,\n",
       "                                         23, 25, 27, 29, 31, 33, 35, 37, 39, 41,\n",
       "                                         43]})"
      ]
     },
     "execution_count": 44,
     "metadata": {},
     "output_type": "execute_result"
    }
   ],
   "source": [
    "parameters = {'n_neighbors': [i for i in range(1,45,2)]}\n",
    "Grid_KNN =  GridSearchCV(KNeighborsClassifier(),parameters,cv=5)\n",
    "Grid_KNN.fit(X_train, y_train)"
   ]
  },
  {
   "cell_type": "code",
   "execution_count": 45,
   "id": "9de717b0",
   "metadata": {},
   "outputs": [
    {
     "name": "stdout",
     "output_type": "stream",
     "text": [
      "Best score: 0.6767183796595562\n",
      "Best parameters sets:\n",
      "n_neighbors:41\n"
     ]
    }
   ],
   "source": [
    "print_grid_search_metrics(Grid_KNN)"
   ]
  },
  {
   "cell_type": "code",
   "execution_count": 46,
   "id": "a10a1a2b",
   "metadata": {},
   "outputs": [],
   "source": [
    "best_KNN_model = Grid_KNN.best_estimator_"
   ]
  },
  {
   "cell_type": "code",
   "execution_count": 47,
   "id": "b56bba21",
   "metadata": {},
   "outputs": [
    {
     "data": {
      "text/plain": [
       "array([2, 2, 2, 3, 1, 2, 1, 2, 3, 2, 2, 0, 2, 2, 2, 2, 0, 2, 0, 0, 1, 0,\n",
       "       0, 2, 1, 1, 0, 2, 0, 1, 2, 0, 1, 1, 1, 1, 0, 0, 2, 1, 0, 1, 3, 2,\n",
       "       1, 3, 3, 3, 0, 3, 1, 3, 0, 2, 2, 2, 0, 2, 1, 3, 2, 2, 2, 2, 3, 0,\n",
       "       0, 2, 0, 2, 2, 0, 3, 3, 3, 0, 0, 2, 1, 3, 1, 3, 3, 0, 3, 3, 3, 3,\n",
       "       1, 1, 2, 1, 3, 2, 3, 3, 3, 0, 1, 2, 1, 0, 1, 0, 2, 0, 1, 3, 0, 3,\n",
       "       3, 0, 2, 0, 2, 1, 0, 2, 1, 3, 3, 1, 2, 1, 3, 2, 1, 0, 3, 2, 3, 0,\n",
       "       1, 1, 3, 0, 2, 2, 0, 2, 0, 2, 2, 2, 1, 3, 0, 0, 2, 0, 1, 1, 3, 0,\n",
       "       2, 1, 0, 3, 2, 3, 3, 1, 0, 0, 0, 1, 3, 0, 0, 2, 2, 0, 0, 0, 2, 2,\n",
       "       0, 3, 2, 1, 0, 2, 1, 1, 2, 1, 2, 2, 0, 3, 0, 2, 3, 1, 3, 2, 1, 2,\n",
       "       1, 0, 3, 1, 2, 1, 2, 0, 0, 2, 3, 2, 0, 2, 2, 0, 2, 0, 3, 0, 3, 1,\n",
       "       2, 1, 1, 3, 3, 3, 1, 3, 3, 0, 2, 0, 0, 0, 3, 0, 2, 1, 0, 0, 2, 0,\n",
       "       2, 2, 2, 0, 3, 2, 0, 3, 0, 1, 3, 2, 1, 1, 0, 0, 1, 2, 3, 1, 3, 0,\n",
       "       0, 1, 3, 0, 0, 3, 2, 2, 3, 2, 0, 2, 2, 0, 3, 0, 2, 3, 1, 0, 0, 2,\n",
       "       2, 0, 2, 3, 0, 3, 1, 2, 2, 2, 3, 0, 2, 0, 0, 3, 2, 0, 0, 3, 1, 3,\n",
       "       0, 3, 1, 3, 2, 0, 2, 1, 1, 2, 3, 2, 2, 2, 0, 2, 2, 3, 0, 0, 0, 3,\n",
       "       3, 0, 3, 3, 1, 2, 0, 1, 0, 2, 2, 3, 0, 0, 3, 1, 1, 2, 1, 1, 1, 1,\n",
       "       3, 0, 2, 3, 0, 2, 2, 0, 1, 0, 2, 0, 0, 0, 2, 1, 2, 1, 0, 3, 2, 0,\n",
       "       1, 0, 1, 0, 2, 2, 3, 0, 2, 0, 0, 2, 2, 2, 0, 1, 0, 0, 2, 2, 0, 3,\n",
       "       2, 0, 3, 3, 2, 0, 1, 0, 2, 2, 2, 2, 3, 1, 1, 1, 1, 1, 0, 2, 1, 1,\n",
       "       1, 2, 2, 1, 2, 1, 3, 1, 0, 3, 0, 2, 0, 1, 2, 0, 1, 0, 1, 3, 0, 0,\n",
       "       0, 3, 1, 0, 3, 3, 2, 3, 2, 0, 2, 1, 1, 3, 0])"
      ]
     },
     "execution_count": 47,
     "metadata": {},
     "output_type": "execute_result"
    }
   ],
   "source": [
    "best_KNN_model.predict(X_test)"
   ]
  },
  {
   "cell_type": "code",
   "execution_count": 48,
   "id": "2297f767",
   "metadata": {},
   "outputs": [
    {
     "data": {
      "text/plain": [
       "0.6659340659340659"
      ]
     },
     "execution_count": 48,
     "metadata": {},
     "output_type": "execute_result"
    }
   ],
   "source": [
    "best_KNN_model.score(X_test,y_test)"
   ]
  },
  {
   "cell_type": "code",
   "execution_count": 49,
   "id": "978377d0",
   "metadata": {},
   "outputs": [
    {
     "data": {
      "text/plain": [
       "[<matplotlib.lines.Line2D at 0x7fe06866af10>]"
      ]
     },
     "execution_count": 49,
     "metadata": {},
     "output_type": "execute_result"
    },
    {
     "data": {
      "image/png": "[encoded data removed]",
      "text/plain": [
       "<Figure size 432x288 with 1 Axes>"
      ]
     },
     "metadata": {},
     "output_type": "display_data"
    }
   ],
   "source": [
    "KNN_models = pd.DataFrame(Grid_KNN.cv_results_)\n",
    "plt.plot(KNN_models['param_n_neighbors'],KNN_models['mean_test_score'])"
   ]
  },
  {
   "cell_type": "markdown",
   "id": "8d5eb054",
   "metadata": {},
   "source": [
    "#### Part 3.2.3 : Random Forest\n",
    "\n",
    "# 'max_features', 'max_depth'"
   ]
  },
  {
   "cell_type": "code",
   "execution_count": 50,
   "id": "6b2472ae",
   "metadata": {},
   "outputs": [
    {
     "name": "stdout",
     "output_type": "stream",
     "text": [
      "Fitting 5 folds for each of 120 candidates, totalling 600 fits\n"
     ]
    },
    {
     "ename": "KeyboardInterrupt",
     "evalue": "",
     "output_type": "error",
     "traceback": [
      "\u001b[0;31m---------------------------------------------------------------------------\u001b[0m",
      "\u001b[0;31mKeyboardInterrupt\u001b[0m                         Traceback (most recent call last)",
      "\u001b[0;32m<ipython-input-50-1d4faecafc7a>\u001b[0m in \u001b[0;36m<module>\u001b[0;34m\u001b[0m\n\u001b[1;32m      6\u001b[0m }\n\u001b[1;32m      7\u001b[0m \u001b[0mGrid_RF\u001b[0m \u001b[0;34m=\u001b[0m  \u001b[0mGridSearchCV\u001b[0m\u001b[0;34m(\u001b[0m\u001b[0mRandomForestClassifier\u001b[0m\u001b[0;34m(\u001b[0m\u001b[0;34m)\u001b[0m\u001b[0;34m,\u001b[0m\u001b[0mparameters\u001b[0m\u001b[0;34m,\u001b[0m\u001b[0mcv\u001b[0m\u001b[0;34m=\u001b[0m\u001b[0;36m5\u001b[0m\u001b[0;34m,\u001b[0m\u001b[0mverbose\u001b[0m\u001b[0;34m=\u001b[0m\u001b[0;32mTrue\u001b[0m\u001b[0;34m)\u001b[0m\u001b[0;34m\u001b[0m\u001b[0;34m\u001b[0m\u001b[0m\n\u001b[0;32m----> 8\u001b[0;31m \u001b[0mGrid_RF\u001b[0m\u001b[0;34m.\u001b[0m\u001b[0mfit\u001b[0m\u001b[0;34m(\u001b[0m\u001b[0mX_train\u001b[0m\u001b[0;34m,\u001b[0m \u001b[0my_train\u001b[0m\u001b[0;34m)\u001b[0m\u001b[0;34m\u001b[0m\u001b[0;34m\u001b[0m\u001b[0m\n\u001b[0m",
      "\u001b[0;32m~/opt/anaconda3/lib/python3.8/site-packages/sklearn/utils/validation.py\u001b[0m in \u001b[0;36minner_f\u001b[0;34m(*args, **kwargs)\u001b[0m\n\u001b[1;32m     61\u001b[0m             \u001b[0mextra_args\u001b[0m \u001b[0;34m=\u001b[0m \u001b[0mlen\u001b[0m\u001b[0;34m(\u001b[0m\u001b[0margs\u001b[0m\u001b[0;34m)\u001b[0m \u001b[0;34m-\u001b[0m \u001b[0mlen\u001b[0m\u001b[0;34m(\u001b[0m\u001b[0mall_args\u001b[0m\u001b[0;34m)\u001b[0m\u001b[0;34m\u001b[0m\u001b[0;34m\u001b[0m\u001b[0m\n\u001b[1;32m     62\u001b[0m             \u001b[0;32mif\u001b[0m \u001b[0mextra_args\u001b[0m \u001b[0;34m<=\u001b[0m \u001b[0;36m0\u001b[0m\u001b[0;34m:\u001b[0m\u001b[0;34m\u001b[0m\u001b[0;34m\u001b[0m\u001b[0m\n\u001b[0;32m---> 63\u001b[0;31m                 \u001b[0;32mreturn\u001b[0m \u001b[0mf\u001b[0m\u001b[0;34m(\u001b[0m\u001b[0;34m*\u001b[0m\u001b[0margs\u001b[0m\u001b[0;34m,\u001b[0m \u001b[0;34m**\u001b[0m\u001b[0mkwargs\u001b[0m\u001b[0;34m)\u001b[0m\u001b[0;34m\u001b[0m\u001b[0;34m\u001b[0m\u001b[0m\n\u001b[0m\u001b[1;32m     64\u001b[0m \u001b[0;34m\u001b[0m\u001b[0m\n\u001b[1;32m     65\u001b[0m             \u001b[0;31m# extra_args > 0\u001b[0m\u001b[0;34m\u001b[0m\u001b[0;34m\u001b[0m\u001b[0;34m\u001b[0m\u001b[0m\n",
      "\u001b[0;32m~/opt/anaconda3/lib/python3.8/site-packages/sklearn/model_selection/_search.py\u001b[0m in \u001b[0;36mfit\u001b[0;34m(self, X, y, groups, **fit_params)\u001b[0m\n\u001b[1;32m    839\u001b[0m                 \u001b[0;32mreturn\u001b[0m \u001b[0mresults\u001b[0m\u001b[0;34m\u001b[0m\u001b[0;34m\u001b[0m\u001b[0m\n\u001b[1;32m    840\u001b[0m \u001b[0;34m\u001b[0m\u001b[0m\n\u001b[0;32m--> 841\u001b[0;31m             \u001b[0mself\u001b[0m\u001b[0;34m.\u001b[0m\u001b[0m_run_search\u001b[0m\u001b[0;34m(\u001b[0m\u001b[0mevaluate_candidates\u001b[0m\u001b[0;34m)\u001b[0m\u001b[0;34m\u001b[0m\u001b[0;34m\u001b[0m\u001b[0m\n\u001b[0m\u001b[1;32m    842\u001b[0m \u001b[0;34m\u001b[0m\u001b[0m\n\u001b[1;32m    843\u001b[0m             \u001b[0;31m# multimetric is determined here because in the case of a callable\u001b[0m\u001b[0;34m\u001b[0m\u001b[0;34m\u001b[0m\u001b[0;34m\u001b[0m\u001b[0m\n",
      "\u001b[0;32m~/opt/anaconda3/lib/python3.8/site-packages/sklearn/model_selection/_search.py\u001b[0m in \u001b[0;36m_run_search\u001b[0;34m(self, evaluate_candidates)\u001b[0m\n\u001b[1;32m   1286\u001b[0m     \u001b[0;32mdef\u001b[0m \u001b[0m_run_search\u001b[0m\u001b[0;34m(\u001b[0m\u001b[0mself\u001b[0m\u001b[0;34m,\u001b[0m \u001b[0mevaluate_candidates\u001b[0m\u001b[0;34m)\u001b[0m\u001b[0;34m:\u001b[0m\u001b[0;34m\u001b[0m\u001b[0;34m\u001b[0m\u001b[0m\n\u001b[1;32m   1287\u001b[0m         \u001b[0;34m\"\"\"Search all candidates in param_grid\"\"\"\u001b[0m\u001b[0;34m\u001b[0m\u001b[0;34m\u001b[0m\u001b[0m\n\u001b[0;32m-> 1288\u001b[0;31m         \u001b[0mevaluate_candidates\u001b[0m\u001b[0;34m(\u001b[0m\u001b[0mParameterGrid\u001b[0m\u001b[0;34m(\u001b[0m\u001b[0mself\u001b[0m\u001b[0;34m.\u001b[0m\u001b[0mparam_grid\u001b[0m\u001b[0;34m)\u001b[0m\u001b[0;34m)\u001b[0m\u001b[0;34m\u001b[0m\u001b[0;34m\u001b[0m\u001b[0m\n\u001b[0m\u001b[1;32m   1289\u001b[0m \u001b[0;34m\u001b[0m\u001b[0m\n\u001b[1;32m   1290\u001b[0m \u001b[0;34m\u001b[0m\u001b[0m\n",
      "\u001b[0;32m~/opt/anaconda3/lib/python3.8/site-packages/sklearn/model_selection/_search.py\u001b[0m in \u001b[0;36mevaluate_candidates\u001b[0;34m(candidate_params, cv, more_results)\u001b[0m\n\u001b[1;32m    793\u001b[0m                               n_splits, n_candidates, n_candidates * n_splits))\n\u001b[1;32m    794\u001b[0m \u001b[0;34m\u001b[0m\u001b[0m\n\u001b[0;32m--> 795\u001b[0;31m                 out = parallel(delayed(_fit_and_score)(clone(base_estimator),\n\u001b[0m\u001b[1;32m    796\u001b[0m                                                        \u001b[0mX\u001b[0m\u001b[0;34m,\u001b[0m \u001b[0my\u001b[0m\u001b[0;34m,\u001b[0m\u001b[0;34m\u001b[0m\u001b[0;34m\u001b[0m\u001b[0m\n\u001b[1;32m    797\u001b[0m                                                        \u001b[0mtrain\u001b[0m\u001b[0;34m=\u001b[0m\u001b[0mtrain\u001b[0m\u001b[0;34m,\u001b[0m \u001b[0mtest\u001b[0m\u001b[0;34m=\u001b[0m\u001b[0mtest\u001b[0m\u001b[0;34m,\u001b[0m\u001b[0;34m\u001b[0m\u001b[0;34m\u001b[0m\u001b[0m\n",
      "\u001b[0;32m~/opt/anaconda3/lib/python3.8/site-packages/joblib/parallel.py\u001b[0m in \u001b[0;36m__call__\u001b[0;34m(self, iterable)\u001b[0m\n\u001b[1;32m   1042\u001b[0m                 \u001b[0mself\u001b[0m\u001b[0;34m.\u001b[0m\u001b[0m_iterating\u001b[0m \u001b[0;34m=\u001b[0m \u001b[0mself\u001b[0m\u001b[0;34m.\u001b[0m\u001b[0m_original_iterator\u001b[0m \u001b[0;32mis\u001b[0m \u001b[0;32mnot\u001b[0m \u001b[0;32mNone\u001b[0m\u001b[0;34m\u001b[0m\u001b[0;34m\u001b[0m\u001b[0m\n\u001b[1;32m   1043\u001b[0m \u001b[0;34m\u001b[0m\u001b[0m\n\u001b[0;32m-> 1044\u001b[0;31m             \u001b[0;32mwhile\u001b[0m \u001b[0mself\u001b[0m\u001b[0;34m.\u001b[0m\u001b[0mdispatch_one_batch\u001b[0m\u001b[0;34m(\u001b[0m\u001b[0miterator\u001b[0m\u001b[0;34m)\u001b[0m\u001b[0;34m:\u001b[0m\u001b[0;34m\u001b[0m\u001b[0;34m\u001b[0m\u001b[0m\n\u001b[0m\u001b[1;32m   1045\u001b[0m                 \u001b[0;32mpass\u001b[0m\u001b[0;34m\u001b[0m\u001b[0;34m\u001b[0m\u001b[0m\n\u001b[1;32m   1046\u001b[0m \u001b[0;34m\u001b[0m\u001b[0m\n",
      "\u001b[0;32m~/opt/anaconda3/lib/python3.8/site-packages/joblib/parallel.py\u001b[0m in \u001b[0;36mdispatch_one_batch\u001b[0;34m(self, iterator)\u001b[0m\n\u001b[1;32m    857\u001b[0m                 \u001b[0;32mreturn\u001b[0m \u001b[0;32mFalse\u001b[0m\u001b[0;34m\u001b[0m\u001b[0;34m\u001b[0m\u001b[0m\n\u001b[1;32m    858\u001b[0m             \u001b[0;32melse\u001b[0m\u001b[0;34m:\u001b[0m\u001b[0;34m\u001b[0m\u001b[0;34m\u001b[0m\u001b[0m\n\u001b[0;32m--> 859\u001b[0;31m                 \u001b[0mself\u001b[0m\u001b[0;34m.\u001b[0m\u001b[0m_dispatch\u001b[0m\u001b[0;34m(\u001b[0m\u001b[0mtasks\u001b[0m\u001b[0;34m)\u001b[0m\u001b[0;34m\u001b[0m\u001b[0;34m\u001b[0m\u001b[0m\n\u001b[0m\u001b[1;32m    860\u001b[0m                 \u001b[0;32mreturn\u001b[0m \u001b[0;32mTrue\u001b[0m\u001b[0;34m\u001b[0m\u001b[0;34m\u001b[0m\u001b[0m\n\u001b[1;32m    861\u001b[0m \u001b[0;34m\u001b[0m\u001b[0m\n",
      "\u001b[0;32m~/opt/anaconda3/lib/python3.8/site-packages/joblib/parallel.py\u001b[0m in \u001b[0;36m_dispatch\u001b[0;34m(self, batch)\u001b[0m\n\u001b[1;32m    775\u001b[0m         \u001b[0;32mwith\u001b[0m \u001b[0mself\u001b[0m\u001b[0;34m.\u001b[0m\u001b[0m_lock\u001b[0m\u001b[0;34m:\u001b[0m\u001b[0;34m\u001b[0m\u001b[0;34m\u001b[0m\u001b[0m\n\u001b[1;32m    776\u001b[0m             \u001b[0mjob_idx\u001b[0m \u001b[0;34m=\u001b[0m \u001b[0mlen\u001b[0m\u001b[0;34m(\u001b[0m\u001b[0mself\u001b[0m\u001b[0;34m.\u001b[0m\u001b[0m_jobs\u001b[0m\u001b[0;34m)\u001b[0m\u001b[0;34m\u001b[0m\u001b[0;34m\u001b[0m\u001b[0m\n\u001b[0;32m--> 777\u001b[0;31m             \u001b[0mjob\u001b[0m \u001b[0;34m=\u001b[0m \u001b[0mself\u001b[0m\u001b[0;34m.\u001b[0m\u001b[0m_backend\u001b[0m\u001b[0;34m.\u001b[0m\u001b[0mapply_async\u001b[0m\u001b[0;34m(\u001b[0m\u001b[0mbatch\u001b[0m\u001b[0;34m,\u001b[0m \u001b[0mcallback\u001b[0m\u001b[0;34m=\u001b[0m\u001b[0mcb\u001b[0m\u001b[0;34m)\u001b[0m\u001b[0;34m\u001b[0m\u001b[0;34m\u001b[0m\u001b[0m\n\u001b[0m\u001b[1;32m    778\u001b[0m             \u001b[0;31m# A job can complete so quickly than its callback is\u001b[0m\u001b[0;34m\u001b[0m\u001b[0;34m\u001b[0m\u001b[0;34m\u001b[0m\u001b[0m\n\u001b[1;32m    779\u001b[0m             \u001b[0;31m# called before we get here, causing self._jobs to\u001b[0m\u001b[0;34m\u001b[0m\u001b[0;34m\u001b[0m\u001b[0;34m\u001b[0m\u001b[0m\n",
      "\u001b[0;32m~/opt/anaconda3/lib/python3.8/site-packages/joblib/_parallel_backends.py\u001b[0m in \u001b[0;36mapply_async\u001b[0;34m(self, func, callback)\u001b[0m\n\u001b[1;32m    206\u001b[0m     \u001b[0;32mdef\u001b[0m \u001b[0mapply_async\u001b[0m\u001b[0;34m(\u001b[0m\u001b[0mself\u001b[0m\u001b[0;34m,\u001b[0m \u001b[0mfunc\u001b[0m\u001b[0;34m,\u001b[0m \u001b[0mcallback\u001b[0m\u001b[0;34m=\u001b[0m\u001b[0;32mNone\u001b[0m\u001b[0;34m)\u001b[0m\u001b[0;34m:\u001b[0m\u001b[0;34m\u001b[0m\u001b[0;34m\u001b[0m\u001b[0m\n\u001b[1;32m    207\u001b[0m         \u001b[0;34m\"\"\"Schedule a func to be run\"\"\"\u001b[0m\u001b[0;34m\u001b[0m\u001b[0;34m\u001b[0m\u001b[0m\n\u001b[0;32m--> 208\u001b[0;31m         \u001b[0mresult\u001b[0m \u001b[0;34m=\u001b[0m \u001b[0mImmediateResult\u001b[0m\u001b[0;34m(\u001b[0m\u001b[0mfunc\u001b[0m\u001b[0;34m)\u001b[0m\u001b[0;34m\u001b[0m\u001b[0;34m\u001b[0m\u001b[0m\n\u001b[0m\u001b[1;32m    209\u001b[0m         \u001b[0;32mif\u001b[0m \u001b[0mcallback\u001b[0m\u001b[0;34m:\u001b[0m\u001b[0;34m\u001b[0m\u001b[0;34m\u001b[0m\u001b[0m\n\u001b[1;32m    210\u001b[0m             \u001b[0mcallback\u001b[0m\u001b[0;34m(\u001b[0m\u001b[0mresult\u001b[0m\u001b[0;34m)\u001b[0m\u001b[0;34m\u001b[0m\u001b[0;34m\u001b[0m\u001b[0m\n",
      "\u001b[0;32m~/opt/anaconda3/lib/python3.8/site-packages/joblib/_parallel_backends.py\u001b[0m in \u001b[0;36m__init__\u001b[0;34m(self, batch)\u001b[0m\n\u001b[1;32m    570\u001b[0m         \u001b[0;31m# Don't delay the application, to avoid keeping the input\u001b[0m\u001b[0;34m\u001b[0m\u001b[0;34m\u001b[0m\u001b[0;34m\u001b[0m\u001b[0m\n\u001b[1;32m    571\u001b[0m         \u001b[0;31m# arguments in memory\u001b[0m\u001b[0;34m\u001b[0m\u001b[0;34m\u001b[0m\u001b[0;34m\u001b[0m\u001b[0m\n\u001b[0;32m--> 572\u001b[0;31m         \u001b[0mself\u001b[0m\u001b[0;34m.\u001b[0m\u001b[0mresults\u001b[0m \u001b[0;34m=\u001b[0m \u001b[0mbatch\u001b[0m\u001b[0;34m(\u001b[0m\u001b[0;34m)\u001b[0m\u001b[0;34m\u001b[0m\u001b[0;34m\u001b[0m\u001b[0m\n\u001b[0m\u001b[1;32m    573\u001b[0m \u001b[0;34m\u001b[0m\u001b[0m\n\u001b[1;32m    574\u001b[0m     \u001b[0;32mdef\u001b[0m \u001b[0mget\u001b[0m\u001b[0;34m(\u001b[0m\u001b[0mself\u001b[0m\u001b[0;34m)\u001b[0m\u001b[0;34m:\u001b[0m\u001b[0;34m\u001b[0m\u001b[0;34m\u001b[0m\u001b[0m\n",
      "\u001b[0;32m~/opt/anaconda3/lib/python3.8/site-packages/joblib/parallel.py\u001b[0m in \u001b[0;36m__call__\u001b[0;34m(self)\u001b[0m\n\u001b[1;32m    260\u001b[0m         \u001b[0;31m# change the default number of processes to -1\u001b[0m\u001b[0;34m\u001b[0m\u001b[0;34m\u001b[0m\u001b[0;34m\u001b[0m\u001b[0m\n\u001b[1;32m    261\u001b[0m         \u001b[0;32mwith\u001b[0m \u001b[0mparallel_backend\u001b[0m\u001b[0;34m(\u001b[0m\u001b[0mself\u001b[0m\u001b[0;34m.\u001b[0m\u001b[0m_backend\u001b[0m\u001b[0;34m,\u001b[0m \u001b[0mn_jobs\u001b[0m\u001b[0;34m=\u001b[0m\u001b[0mself\u001b[0m\u001b[0;34m.\u001b[0m\u001b[0m_n_jobs\u001b[0m\u001b[0;34m)\u001b[0m\u001b[0;34m:\u001b[0m\u001b[0;34m\u001b[0m\u001b[0;34m\u001b[0m\u001b[0m\n\u001b[0;32m--> 262\u001b[0;31m             return [func(*args, **kwargs)\n\u001b[0m\u001b[1;32m    263\u001b[0m                     for func, args, kwargs in self.items]\n\u001b[1;32m    264\u001b[0m \u001b[0;34m\u001b[0m\u001b[0m\n",
      "\u001b[0;32m~/opt/anaconda3/lib/python3.8/site-packages/joblib/parallel.py\u001b[0m in \u001b[0;36m<listcomp>\u001b[0;34m(.0)\u001b[0m\n\u001b[1;32m    260\u001b[0m         \u001b[0;31m# change the default number of processes to -1\u001b[0m\u001b[0;34m\u001b[0m\u001b[0;34m\u001b[0m\u001b[0;34m\u001b[0m\u001b[0m\n\u001b[1;32m    261\u001b[0m         \u001b[0;32mwith\u001b[0m \u001b[0mparallel_backend\u001b[0m\u001b[0;34m(\u001b[0m\u001b[0mself\u001b[0m\u001b[0;34m.\u001b[0m\u001b[0m_backend\u001b[0m\u001b[0;34m,\u001b[0m \u001b[0mn_jobs\u001b[0m\u001b[0;34m=\u001b[0m\u001b[0mself\u001b[0m\u001b[0;34m.\u001b[0m\u001b[0m_n_jobs\u001b[0m\u001b[0;34m)\u001b[0m\u001b[0;34m:\u001b[0m\u001b[0;34m\u001b[0m\u001b[0;34m\u001b[0m\u001b[0m\n\u001b[0;32m--> 262\u001b[0;31m             return [func(*args, **kwargs)\n\u001b[0m\u001b[1;32m    263\u001b[0m                     for func, args, kwargs in self.items]\n\u001b[1;32m    264\u001b[0m \u001b[0;34m\u001b[0m\u001b[0m\n",
      "\u001b[0;32m~/opt/anaconda3/lib/python3.8/site-packages/sklearn/utils/fixes.py\u001b[0m in \u001b[0;36m__call__\u001b[0;34m(self, *args, **kwargs)\u001b[0m\n\u001b[1;32m    220\u001b[0m     \u001b[0;32mdef\u001b[0m \u001b[0m__call__\u001b[0m\u001b[0;34m(\u001b[0m\u001b[0mself\u001b[0m\u001b[0;34m,\u001b[0m \u001b[0;34m*\u001b[0m\u001b[0margs\u001b[0m\u001b[0;34m,\u001b[0m \u001b[0;34m**\u001b[0m\u001b[0mkwargs\u001b[0m\u001b[0;34m)\u001b[0m\u001b[0;34m:\u001b[0m\u001b[0;34m\u001b[0m\u001b[0;34m\u001b[0m\u001b[0m\n\u001b[1;32m    221\u001b[0m         \u001b[0;32mwith\u001b[0m \u001b[0mconfig_context\u001b[0m\u001b[0;34m(\u001b[0m\u001b[0;34m**\u001b[0m\u001b[0mself\u001b[0m\u001b[0;34m.\u001b[0m\u001b[0mconfig\u001b[0m\u001b[0;34m)\u001b[0m\u001b[0;34m:\u001b[0m\u001b[0;34m\u001b[0m\u001b[0;34m\u001b[0m\u001b[0m\n\u001b[0;32m--> 222\u001b[0;31m             \u001b[0;32mreturn\u001b[0m \u001b[0mself\u001b[0m\u001b[0;34m.\u001b[0m\u001b[0mfunction\u001b[0m\u001b[0;34m(\u001b[0m\u001b[0;34m*\u001b[0m\u001b[0margs\u001b[0m\u001b[0;34m,\u001b[0m \u001b[0;34m**\u001b[0m\u001b[0mkwargs\u001b[0m\u001b[0;34m)\u001b[0m\u001b[0;34m\u001b[0m\u001b[0;34m\u001b[0m\u001b[0m\n\u001b[0m",
      "\u001b[0;32m~/opt/anaconda3/lib/python3.8/site-packages/sklearn/model_selection/_validation.py\u001b[0m in \u001b[0;36m_fit_and_score\u001b[0;34m(estimator, X, y, scorer, train, test, verbose, parameters, fit_params, return_train_score, return_parameters, return_n_test_samples, return_times, return_estimator, split_progress, candidate_progress, error_score)\u001b[0m\n\u001b[1;32m    591\u001b[0m             \u001b[0mestimator\u001b[0m\u001b[0;34m.\u001b[0m\u001b[0mfit\u001b[0m\u001b[0;34m(\u001b[0m\u001b[0mX_train\u001b[0m\u001b[0;34m,\u001b[0m \u001b[0;34m**\u001b[0m\u001b[0mfit_params\u001b[0m\u001b[0;34m)\u001b[0m\u001b[0;34m\u001b[0m\u001b[0;34m\u001b[0m\u001b[0m\n\u001b[1;32m    592\u001b[0m         \u001b[0;32melse\u001b[0m\u001b[0;34m:\u001b[0m\u001b[0;34m\u001b[0m\u001b[0;34m\u001b[0m\u001b[0m\n\u001b[0;32m--> 593\u001b[0;31m             \u001b[0mestimator\u001b[0m\u001b[0;34m.\u001b[0m\u001b[0mfit\u001b[0m\u001b[0;34m(\u001b[0m\u001b[0mX_train\u001b[0m\u001b[0;34m,\u001b[0m \u001b[0my_train\u001b[0m\u001b[0;34m,\u001b[0m \u001b[0;34m**\u001b[0m\u001b[0mfit_params\u001b[0m\u001b[0;34m)\u001b[0m\u001b[0;34m\u001b[0m\u001b[0;34m\u001b[0m\u001b[0m\n\u001b[0m\u001b[1;32m    594\u001b[0m \u001b[0;34m\u001b[0m\u001b[0m\n\u001b[1;32m    595\u001b[0m     \u001b[0;32mexcept\u001b[0m \u001b[0mException\u001b[0m \u001b[0;32mas\u001b[0m \u001b[0me\u001b[0m\u001b[0;34m:\u001b[0m\u001b[0;34m\u001b[0m\u001b[0;34m\u001b[0m\u001b[0m\n",
      "\u001b[0;32m~/opt/anaconda3/lib/python3.8/site-packages/sklearn/ensemble/_forest.py\u001b[0m in \u001b[0;36mfit\u001b[0;34m(self, X, y, sample_weight)\u001b[0m\n\u001b[1;32m    385\u001b[0m             \u001b[0;31m# parallel_backend contexts set at a higher level,\u001b[0m\u001b[0;34m\u001b[0m\u001b[0;34m\u001b[0m\u001b[0;34m\u001b[0m\u001b[0m\n\u001b[1;32m    386\u001b[0m             \u001b[0;31m# since correctness does not rely on using threads.\u001b[0m\u001b[0;34m\u001b[0m\u001b[0;34m\u001b[0m\u001b[0;34m\u001b[0m\u001b[0m\n\u001b[0;32m--> 387\u001b[0;31m             trees = Parallel(n_jobs=self.n_jobs, verbose=self.verbose,\n\u001b[0m\u001b[1;32m    388\u001b[0m                              \u001b[0;34m**\u001b[0m\u001b[0m_joblib_parallel_args\u001b[0m\u001b[0;34m(\u001b[0m\u001b[0mprefer\u001b[0m\u001b[0;34m=\u001b[0m\u001b[0;34m'threads'\u001b[0m\u001b[0;34m)\u001b[0m\u001b[0;34m)\u001b[0m\u001b[0;34m(\u001b[0m\u001b[0;34m\u001b[0m\u001b[0;34m\u001b[0m\u001b[0m\n\u001b[1;32m    389\u001b[0m                 delayed(_parallel_build_trees)(\n",
      "\u001b[0;32m~/opt/anaconda3/lib/python3.8/site-packages/joblib/parallel.py\u001b[0m in \u001b[0;36m__call__\u001b[0;34m(self, iterable)\u001b[0m\n\u001b[1;32m   1042\u001b[0m                 \u001b[0mself\u001b[0m\u001b[0;34m.\u001b[0m\u001b[0m_iterating\u001b[0m \u001b[0;34m=\u001b[0m \u001b[0mself\u001b[0m\u001b[0;34m.\u001b[0m\u001b[0m_original_iterator\u001b[0m \u001b[0;32mis\u001b[0m \u001b[0;32mnot\u001b[0m \u001b[0;32mNone\u001b[0m\u001b[0;34m\u001b[0m\u001b[0;34m\u001b[0m\u001b[0m\n\u001b[1;32m   1043\u001b[0m \u001b[0;34m\u001b[0m\u001b[0m\n\u001b[0;32m-> 1044\u001b[0;31m             \u001b[0;32mwhile\u001b[0m \u001b[0mself\u001b[0m\u001b[0;34m.\u001b[0m\u001b[0mdispatch_one_batch\u001b[0m\u001b[0;34m(\u001b[0m\u001b[0miterator\u001b[0m\u001b[0;34m)\u001b[0m\u001b[0;34m:\u001b[0m\u001b[0;34m\u001b[0m\u001b[0;34m\u001b[0m\u001b[0m\n\u001b[0m\u001b[1;32m   1045\u001b[0m                 \u001b[0;32mpass\u001b[0m\u001b[0;34m\u001b[0m\u001b[0;34m\u001b[0m\u001b[0m\n\u001b[1;32m   1046\u001b[0m \u001b[0;34m\u001b[0m\u001b[0m\n",
      "\u001b[0;32m~/opt/anaconda3/lib/python3.8/site-packages/joblib/parallel.py\u001b[0m in \u001b[0;36mdispatch_one_batch\u001b[0;34m(self, iterator)\u001b[0m\n\u001b[1;32m    857\u001b[0m                 \u001b[0;32mreturn\u001b[0m \u001b[0;32mFalse\u001b[0m\u001b[0;34m\u001b[0m\u001b[0;34m\u001b[0m\u001b[0m\n\u001b[1;32m    858\u001b[0m             \u001b[0;32melse\u001b[0m\u001b[0;34m:\u001b[0m\u001b[0;34m\u001b[0m\u001b[0;34m\u001b[0m\u001b[0m\n\u001b[0;32m--> 859\u001b[0;31m                 \u001b[0mself\u001b[0m\u001b[0;34m.\u001b[0m\u001b[0m_dispatch\u001b[0m\u001b[0;34m(\u001b[0m\u001b[0mtasks\u001b[0m\u001b[0;34m)\u001b[0m\u001b[0;34m\u001b[0m\u001b[0;34m\u001b[0m\u001b[0m\n\u001b[0m\u001b[1;32m    860\u001b[0m                 \u001b[0;32mreturn\u001b[0m \u001b[0;32mTrue\u001b[0m\u001b[0;34m\u001b[0m\u001b[0;34m\u001b[0m\u001b[0m\n\u001b[1;32m    861\u001b[0m \u001b[0;34m\u001b[0m\u001b[0m\n",
      "\u001b[0;32m~/opt/anaconda3/lib/python3.8/site-packages/joblib/parallel.py\u001b[0m in \u001b[0;36m_dispatch\u001b[0;34m(self, batch)\u001b[0m\n\u001b[1;32m    775\u001b[0m         \u001b[0;32mwith\u001b[0m \u001b[0mself\u001b[0m\u001b[0;34m.\u001b[0m\u001b[0m_lock\u001b[0m\u001b[0;34m:\u001b[0m\u001b[0;34m\u001b[0m\u001b[0;34m\u001b[0m\u001b[0m\n\u001b[1;32m    776\u001b[0m             \u001b[0mjob_idx\u001b[0m \u001b[0;34m=\u001b[0m \u001b[0mlen\u001b[0m\u001b[0;34m(\u001b[0m\u001b[0mself\u001b[0m\u001b[0;34m.\u001b[0m\u001b[0m_jobs\u001b[0m\u001b[0;34m)\u001b[0m\u001b[0;34m\u001b[0m\u001b[0;34m\u001b[0m\u001b[0m\n\u001b[0;32m--> 777\u001b[0;31m             \u001b[0mjob\u001b[0m \u001b[0;34m=\u001b[0m \u001b[0mself\u001b[0m\u001b[0;34m.\u001b[0m\u001b[0m_backend\u001b[0m\u001b[0;34m.\u001b[0m\u001b[0mapply_async\u001b[0m\u001b[0;34m(\u001b[0m\u001b[0mbatch\u001b[0m\u001b[0;34m,\u001b[0m \u001b[0mcallback\u001b[0m\u001b[0;34m=\u001b[0m\u001b[0mcb\u001b[0m\u001b[0;34m)\u001b[0m\u001b[0;34m\u001b[0m\u001b[0;34m\u001b[0m\u001b[0m\n\u001b[0m\u001b[1;32m    778\u001b[0m             \u001b[0;31m# A job can complete so quickly than its callback is\u001b[0m\u001b[0;34m\u001b[0m\u001b[0;34m\u001b[0m\u001b[0;34m\u001b[0m\u001b[0m\n\u001b[1;32m    779\u001b[0m             \u001b[0;31m# called before we get here, causing self._jobs to\u001b[0m\u001b[0;34m\u001b[0m\u001b[0;34m\u001b[0m\u001b[0;34m\u001b[0m\u001b[0m\n",
      "\u001b[0;32m~/opt/anaconda3/lib/python3.8/site-packages/joblib/_parallel_backends.py\u001b[0m in \u001b[0;36mapply_async\u001b[0;34m(self, func, callback)\u001b[0m\n\u001b[1;32m    206\u001b[0m     \u001b[0;32mdef\u001b[0m \u001b[0mapply_async\u001b[0m\u001b[0;34m(\u001b[0m\u001b[0mself\u001b[0m\u001b[0;34m,\u001b[0m \u001b[0mfunc\u001b[0m\u001b[0;34m,\u001b[0m \u001b[0mcallback\u001b[0m\u001b[0;34m=\u001b[0m\u001b[0;32mNone\u001b[0m\u001b[0;34m)\u001b[0m\u001b[0;34m:\u001b[0m\u001b[0;34m\u001b[0m\u001b[0;34m\u001b[0m\u001b[0m\n\u001b[1;32m    207\u001b[0m         \u001b[0;34m\"\"\"Schedule a func to be run\"\"\"\u001b[0m\u001b[0;34m\u001b[0m\u001b[0;34m\u001b[0m\u001b[0m\n\u001b[0;32m--> 208\u001b[0;31m         \u001b[0mresult\u001b[0m \u001b[0;34m=\u001b[0m \u001b[0mImmediateResult\u001b[0m\u001b[0;34m(\u001b[0m\u001b[0mfunc\u001b[0m\u001b[0;34m)\u001b[0m\u001b[0;34m\u001b[0m\u001b[0;34m\u001b[0m\u001b[0m\n\u001b[0m\u001b[1;32m    209\u001b[0m         \u001b[0;32mif\u001b[0m \u001b[0mcallback\u001b[0m\u001b[0;34m:\u001b[0m\u001b[0;34m\u001b[0m\u001b[0;34m\u001b[0m\u001b[0m\n\u001b[1;32m    210\u001b[0m             \u001b[0mcallback\u001b[0m\u001b[0;34m(\u001b[0m\u001b[0mresult\u001b[0m\u001b[0;34m)\u001b[0m\u001b[0;34m\u001b[0m\u001b[0;34m\u001b[0m\u001b[0m\n",
      "\u001b[0;32m~/opt/anaconda3/lib/python3.8/site-packages/joblib/_parallel_backends.py\u001b[0m in \u001b[0;36m__init__\u001b[0;34m(self, batch)\u001b[0m\n\u001b[1;32m    570\u001b[0m         \u001b[0;31m# Don't delay the application, to avoid keeping the input\u001b[0m\u001b[0;34m\u001b[0m\u001b[0;34m\u001b[0m\u001b[0;34m\u001b[0m\u001b[0m\n\u001b[1;32m    571\u001b[0m         \u001b[0;31m# arguments in memory\u001b[0m\u001b[0;34m\u001b[0m\u001b[0;34m\u001b[0m\u001b[0;34m\u001b[0m\u001b[0m\n\u001b[0;32m--> 572\u001b[0;31m         \u001b[0mself\u001b[0m\u001b[0;34m.\u001b[0m\u001b[0mresults\u001b[0m \u001b[0;34m=\u001b[0m \u001b[0mbatch\u001b[0m\u001b[0;34m(\u001b[0m\u001b[0;34m)\u001b[0m\u001b[0;34m\u001b[0m\u001b[0;34m\u001b[0m\u001b[0m\n\u001b[0m\u001b[1;32m    573\u001b[0m \u001b[0;34m\u001b[0m\u001b[0m\n\u001b[1;32m    574\u001b[0m     \u001b[0;32mdef\u001b[0m \u001b[0mget\u001b[0m\u001b[0;34m(\u001b[0m\u001b[0mself\u001b[0m\u001b[0;34m)\u001b[0m\u001b[0;34m:\u001b[0m\u001b[0;34m\u001b[0m\u001b[0;34m\u001b[0m\u001b[0m\n",
      "\u001b[0;32m~/opt/anaconda3/lib/python3.8/site-packages/joblib/parallel.py\u001b[0m in \u001b[0;36m__call__\u001b[0;34m(self)\u001b[0m\n\u001b[1;32m    260\u001b[0m         \u001b[0;31m# change the default number of processes to -1\u001b[0m\u001b[0;34m\u001b[0m\u001b[0;34m\u001b[0m\u001b[0;34m\u001b[0m\u001b[0m\n\u001b[1;32m    261\u001b[0m         \u001b[0;32mwith\u001b[0m \u001b[0mparallel_backend\u001b[0m\u001b[0;34m(\u001b[0m\u001b[0mself\u001b[0m\u001b[0;34m.\u001b[0m\u001b[0m_backend\u001b[0m\u001b[0;34m,\u001b[0m \u001b[0mn_jobs\u001b[0m\u001b[0;34m=\u001b[0m\u001b[0mself\u001b[0m\u001b[0;34m.\u001b[0m\u001b[0m_n_jobs\u001b[0m\u001b[0;34m)\u001b[0m\u001b[0;34m:\u001b[0m\u001b[0;34m\u001b[0m\u001b[0;34m\u001b[0m\u001b[0m\n\u001b[0;32m--> 262\u001b[0;31m             return [func(*args, **kwargs)\n\u001b[0m\u001b[1;32m    263\u001b[0m                     for func, args, kwargs in self.items]\n\u001b[1;32m    264\u001b[0m \u001b[0;34m\u001b[0m\u001b[0m\n",
      "\u001b[0;32m~/opt/anaconda3/lib/python3.8/site-packages/joblib/parallel.py\u001b[0m in \u001b[0;36m<listcomp>\u001b[0;34m(.0)\u001b[0m\n\u001b[1;32m    260\u001b[0m         \u001b[0;31m# change the default number of processes to -1\u001b[0m\u001b[0;34m\u001b[0m\u001b[0;34m\u001b[0m\u001b[0;34m\u001b[0m\u001b[0m\n\u001b[1;32m    261\u001b[0m         \u001b[0;32mwith\u001b[0m \u001b[0mparallel_backend\u001b[0m\u001b[0;34m(\u001b[0m\u001b[0mself\u001b[0m\u001b[0;34m.\u001b[0m\u001b[0m_backend\u001b[0m\u001b[0;34m,\u001b[0m \u001b[0mn_jobs\u001b[0m\u001b[0;34m=\u001b[0m\u001b[0mself\u001b[0m\u001b[0;34m.\u001b[0m\u001b[0m_n_jobs\u001b[0m\u001b[0;34m)\u001b[0m\u001b[0;34m:\u001b[0m\u001b[0;34m\u001b[0m\u001b[0;34m\u001b[0m\u001b[0m\n\u001b[0;32m--> 262\u001b[0;31m             return [func(*args, **kwargs)\n\u001b[0m\u001b[1;32m    263\u001b[0m                     for func, args, kwargs in self.items]\n\u001b[1;32m    264\u001b[0m \u001b[0;34m\u001b[0m\u001b[0m\n",
      "\u001b[0;32m~/opt/anaconda3/lib/python3.8/site-packages/sklearn/utils/fixes.py\u001b[0m in \u001b[0;36m__call__\u001b[0;34m(self, *args, **kwargs)\u001b[0m\n\u001b[1;32m    220\u001b[0m     \u001b[0;32mdef\u001b[0m \u001b[0m__call__\u001b[0m\u001b[0;34m(\u001b[0m\u001b[0mself\u001b[0m\u001b[0;34m,\u001b[0m \u001b[0;34m*\u001b[0m\u001b[0margs\u001b[0m\u001b[0;34m,\u001b[0m \u001b[0;34m**\u001b[0m\u001b[0mkwargs\u001b[0m\u001b[0;34m)\u001b[0m\u001b[0;34m:\u001b[0m\u001b[0;34m\u001b[0m\u001b[0;34m\u001b[0m\u001b[0m\n\u001b[1;32m    221\u001b[0m         \u001b[0;32mwith\u001b[0m \u001b[0mconfig_context\u001b[0m\u001b[0;34m(\u001b[0m\u001b[0;34m**\u001b[0m\u001b[0mself\u001b[0m\u001b[0;34m.\u001b[0m\u001b[0mconfig\u001b[0m\u001b[0;34m)\u001b[0m\u001b[0;34m:\u001b[0m\u001b[0;34m\u001b[0m\u001b[0;34m\u001b[0m\u001b[0m\n\u001b[0;32m--> 222\u001b[0;31m             \u001b[0;32mreturn\u001b[0m \u001b[0mself\u001b[0m\u001b[0;34m.\u001b[0m\u001b[0mfunction\u001b[0m\u001b[0;34m(\u001b[0m\u001b[0;34m*\u001b[0m\u001b[0margs\u001b[0m\u001b[0;34m,\u001b[0m \u001b[0;34m**\u001b[0m\u001b[0mkwargs\u001b[0m\u001b[0;34m)\u001b[0m\u001b[0;34m\u001b[0m\u001b[0;34m\u001b[0m\u001b[0m\n\u001b[0m",
      "\u001b[0;32m~/opt/anaconda3/lib/python3.8/site-packages/sklearn/ensemble/_forest.py\u001b[0m in \u001b[0;36m_parallel_build_trees\u001b[0;34m(tree, forest, X, y, sample_weight, tree_idx, n_trees, verbose, class_weight, n_samples_bootstrap)\u001b[0m\n\u001b[1;32m    153\u001b[0m             \u001b[0mcurr_sample_weight\u001b[0m \u001b[0;34m=\u001b[0m \u001b[0msample_weight\u001b[0m\u001b[0;34m.\u001b[0m\u001b[0mcopy\u001b[0m\u001b[0;34m(\u001b[0m\u001b[0;34m)\u001b[0m\u001b[0;34m\u001b[0m\u001b[0;34m\u001b[0m\u001b[0m\n\u001b[1;32m    154\u001b[0m \u001b[0;34m\u001b[0m\u001b[0m\n\u001b[0;32m--> 155\u001b[0;31m         indices = _generate_sample_indices(tree.random_state, n_samples,\n\u001b[0m\u001b[1;32m    156\u001b[0m                                            n_samples_bootstrap)\n\u001b[1;32m    157\u001b[0m         \u001b[0msample_counts\u001b[0m \u001b[0;34m=\u001b[0m \u001b[0mnp\u001b[0m\u001b[0;34m.\u001b[0m\u001b[0mbincount\u001b[0m\u001b[0;34m(\u001b[0m\u001b[0mindices\u001b[0m\u001b[0;34m,\u001b[0m \u001b[0mminlength\u001b[0m\u001b[0;34m=\u001b[0m\u001b[0mn_samples\u001b[0m\u001b[0;34m)\u001b[0m\u001b[0;34m\u001b[0m\u001b[0;34m\u001b[0m\u001b[0m\n",
      "\u001b[0;32m~/opt/anaconda3/lib/python3.8/site-packages/sklearn/ensemble/_forest.py\u001b[0m in \u001b[0;36m_generate_sample_indices\u001b[0;34m(random_state, n_samples, n_samples_bootstrap)\u001b[0m\n\u001b[1;32m    119\u001b[0m     Private function used to _parallel_build_trees function.\"\"\"\n\u001b[1;32m    120\u001b[0m \u001b[0;34m\u001b[0m\u001b[0m\n\u001b[0;32m--> 121\u001b[0;31m     \u001b[0mrandom_instance\u001b[0m \u001b[0;34m=\u001b[0m \u001b[0mcheck_random_state\u001b[0m\u001b[0;34m(\u001b[0m\u001b[0mrandom_state\u001b[0m\u001b[0;34m)\u001b[0m\u001b[0;34m\u001b[0m\u001b[0;34m\u001b[0m\u001b[0m\n\u001b[0m\u001b[1;32m    122\u001b[0m     \u001b[0msample_indices\u001b[0m \u001b[0;34m=\u001b[0m \u001b[0mrandom_instance\u001b[0m\u001b[0;34m.\u001b[0m\u001b[0mrandint\u001b[0m\u001b[0;34m(\u001b[0m\u001b[0;36m0\u001b[0m\u001b[0;34m,\u001b[0m \u001b[0mn_samples\u001b[0m\u001b[0;34m,\u001b[0m \u001b[0mn_samples_bootstrap\u001b[0m\u001b[0;34m)\u001b[0m\u001b[0;34m\u001b[0m\u001b[0;34m\u001b[0m\u001b[0m\n\u001b[1;32m    123\u001b[0m \u001b[0;34m\u001b[0m\u001b[0m\n",
      "\u001b[0;32m~/opt/anaconda3/lib/python3.8/site-packages/sklearn/utils/validation.py\u001b[0m in \u001b[0;36mcheck_random_state\u001b[0;34m(seed)\u001b[0m\n\u001b[1;32m    881\u001b[0m         \u001b[0;32mreturn\u001b[0m \u001b[0mnp\u001b[0m\u001b[0;34m.\u001b[0m\u001b[0mrandom\u001b[0m\u001b[0;34m.\u001b[0m\u001b[0mmtrand\u001b[0m\u001b[0;34m.\u001b[0m\u001b[0m_rand\u001b[0m\u001b[0;34m\u001b[0m\u001b[0;34m\u001b[0m\u001b[0m\n\u001b[1;32m    882\u001b[0m     \u001b[0;32mif\u001b[0m \u001b[0misinstance\u001b[0m\u001b[0;34m(\u001b[0m\u001b[0mseed\u001b[0m\u001b[0;34m,\u001b[0m \u001b[0mnumbers\u001b[0m\u001b[0;34m.\u001b[0m\u001b[0mIntegral\u001b[0m\u001b[0;34m)\u001b[0m\u001b[0;34m:\u001b[0m\u001b[0;34m\u001b[0m\u001b[0;34m\u001b[0m\u001b[0m\n\u001b[0;32m--> 883\u001b[0;31m         \u001b[0;32mreturn\u001b[0m \u001b[0mnp\u001b[0m\u001b[0;34m.\u001b[0m\u001b[0mrandom\u001b[0m\u001b[0;34m.\u001b[0m\u001b[0mRandomState\u001b[0m\u001b[0;34m(\u001b[0m\u001b[0mseed\u001b[0m\u001b[0;34m)\u001b[0m\u001b[0;34m\u001b[0m\u001b[0;34m\u001b[0m\u001b[0m\n\u001b[0m\u001b[1;32m    884\u001b[0m     \u001b[0;32mif\u001b[0m \u001b[0misinstance\u001b[0m\u001b[0;34m(\u001b[0m\u001b[0mseed\u001b[0m\u001b[0;34m,\u001b[0m \u001b[0mnp\u001b[0m\u001b[0;34m.\u001b[0m\u001b[0mrandom\u001b[0m\u001b[0;34m.\u001b[0m\u001b[0mRandomState\u001b[0m\u001b[0;34m)\u001b[0m\u001b[0;34m:\u001b[0m\u001b[0;34m\u001b[0m\u001b[0;34m\u001b[0m\u001b[0m\n\u001b[1;32m    885\u001b[0m         \u001b[0;32mreturn\u001b[0m \u001b[0mseed\u001b[0m\u001b[0;34m\u001b[0m\u001b[0;34m\u001b[0m\u001b[0m\n",
      "\u001b[0;32mmtrand.pyx\u001b[0m in \u001b[0;36mnumpy.random.mtrand.RandomState.__init__\u001b[0;34m()\u001b[0m\n",
      "\u001b[0;32m_mt19937.pyx\u001b[0m in \u001b[0;36mnumpy.random._mt19937.MT19937.__init__\u001b[0;34m()\u001b[0m\n",
      "\u001b[0;32m~/opt/anaconda3/lib/python3.8/contextlib.py\u001b[0m in \u001b[0;36minner\u001b[0;34m(*args, **kwds)\u001b[0m\n\u001b[1;32m     73\u001b[0m         \u001b[0;32mdef\u001b[0m \u001b[0minner\u001b[0m\u001b[0;34m(\u001b[0m\u001b[0;34m*\u001b[0m\u001b[0margs\u001b[0m\u001b[0;34m,\u001b[0m \u001b[0;34m**\u001b[0m\u001b[0mkwds\u001b[0m\u001b[0;34m)\u001b[0m\u001b[0;34m:\u001b[0m\u001b[0;34m\u001b[0m\u001b[0;34m\u001b[0m\u001b[0m\n\u001b[1;32m     74\u001b[0m             \u001b[0;32mwith\u001b[0m \u001b[0mself\u001b[0m\u001b[0;34m.\u001b[0m\u001b[0m_recreate_cm\u001b[0m\u001b[0;34m(\u001b[0m\u001b[0;34m)\u001b[0m\u001b[0;34m:\u001b[0m\u001b[0;34m\u001b[0m\u001b[0;34m\u001b[0m\u001b[0m\n\u001b[0;32m---> 75\u001b[0;31m                 \u001b[0;32mreturn\u001b[0m \u001b[0mfunc\u001b[0m\u001b[0;34m(\u001b[0m\u001b[0;34m*\u001b[0m\u001b[0margs\u001b[0m\u001b[0;34m,\u001b[0m \u001b[0;34m**\u001b[0m\u001b[0mkwds\u001b[0m\u001b[0;34m)\u001b[0m\u001b[0;34m\u001b[0m\u001b[0;34m\u001b[0m\u001b[0m\n\u001b[0m\u001b[1;32m     76\u001b[0m         \u001b[0;32mreturn\u001b[0m \u001b[0minner\u001b[0m\u001b[0;34m\u001b[0m\u001b[0;34m\u001b[0m\u001b[0m\n\u001b[1;32m     77\u001b[0m \u001b[0;34m\u001b[0m\u001b[0m\n",
      "\u001b[0;31mKeyboardInterrupt\u001b[0m: "
     ]
    }
   ],
   "source": [
    "parameters = { \n",
    "    'n_estimators': [60,80,100,200,500],\n",
    "    'max_features': ['auto', 'sqrt', 'log2'],\n",
    "    'max_depth' : [1,4,5,10],\n",
    "    'criterion' :['gini', 'entropy']\n",
    "}\n",
    "Grid_RF =  GridSearchCV(RandomForestClassifier(),parameters,cv=5,verbose=True)\n",
    "Grid_RF.fit(X_train, y_train)"
   ]
  },
  {
   "cell_type": "code",
   "execution_count": null,
   "id": "882099ab",
   "metadata": {},
   "outputs": [
    {
     "name": "stdout",
     "output_type": "stream",
     "text": [
      "Best score: 0.8636446886446887\n",
      "Best parameters sets:\n",
      "criterion:entropy\n",
      "max_depth:10\n",
      "max_features:auto\n",
      "n_estimators:80\n"
     ]
    }
   ],
   "source": [
    "print_grid_search_metrics(Grid_RF)"
   ]
  },
  {
   "cell_type": "code",
   "execution_count": null,
   "id": "d09801a1",
   "metadata": {},
   "outputs": [],
   "source": [
    "best_RF_model = Grid_RF.best_estimator_"
   ]
  },
  {
   "cell_type": "code",
   "execution_count": null,
   "id": "7b4e9c27",
   "metadata": {},
   "outputs": [
    {
     "data": {
      "text/plain": [
       "array([2, 1, 3, 3, 1, 2, 2, 2, 3, 3, 1, 0, 1, 1, 1, 2, 0, 2, 0, 0, 0, 0,\n",
       "       0, 2, 1, 1, 0, 3, 1, 1, 3, 1, 1, 1, 2, 1, 1, 0, 2, 2, 0, 1, 3, 3,\n",
       "       1, 3, 3, 1, 0, 3, 1, 3, 0, 2, 2, 3, 1, 2, 1, 3, 2, 1, 2, 0, 3, 1,\n",
       "       0, 2, 0, 2, 2, 0, 2, 3, 3, 1, 0, 1, 0, 2, 0, 3, 3, 0, 2, 3, 3, 2,\n",
       "       1, 1, 1, 1, 3, 2, 2, 3, 3, 0, 2, 2, 0, 0, 3, 0, 1, 0, 1, 3, 0, 3,\n",
       "       3, 0, 2, 1, 2, 0, 0, 2, 0, 3, 3, 1, 2, 1, 2, 2, 1, 0, 3, 2, 3, 0,\n",
       "       1, 1, 3, 0, 2, 2, 0, 3, 0, 2, 2, 2, 1, 3, 0, 1, 2, 2, 2, 1, 3, 0,\n",
       "       3, 1, 0, 3, 1, 3, 3, 1, 0, 1, 0, 0, 2, 0, 0, 2, 3, 0, 0, 1, 2, 1,\n",
       "       0, 3, 1, 1, 1, 3, 1, 1, 2, 1, 3, 1, 1, 3, 0, 3, 2, 1, 3, 1, 2, 2,\n",
       "       1, 0, 3, 1, 2, 2, 3, 0, 0, 1, 3, 3, 0, 2, 3, 0, 2, 0, 3, 0, 3, 1,\n",
       "       2, 2, 1, 3, 3, 3, 1, 3, 3, 0, 2, 1, 0, 0, 3, 0, 3, 2, 0, 1, 2, 0,\n",
       "       3, 3, 2, 0, 3, 2, 0, 2, 0, 1, 3, 2, 1, 1, 0, 0, 2, 1, 3, 1, 3, 0,\n",
       "       0, 1, 3, 0, 1, 3, 2, 2, 3, 3, 0, 1, 1, 0, 2, 1, 2, 3, 1, 1, 1, 3,\n",
       "       3, 1, 2, 3, 0, 2, 1, 2, 3, 1, 2, 1, 3, 0, 1, 3, 2, 0, 0, 3, 1, 2,\n",
       "       1, 3, 2, 2, 1, 0, 2, 1, 1, 3, 2, 2, 2, 2, 0, 3, 2, 3, 1, 1, 0, 3,\n",
       "       3, 1, 3, 3, 1, 1, 0, 1, 0, 2, 2, 3, 0, 0, 3, 1, 1, 3, 1, 1, 0, 2,\n",
       "       3, 0, 1, 3, 1, 1, 2, 0, 0, 0, 1, 1, 0, 0, 2, 1, 3, 2, 0, 3, 3, 2,\n",
       "       1, 0, 1, 0, 2, 3, 3, 0, 2, 1, 0, 3, 1, 1, 0, 1, 0, 0, 2, 2, 0, 3,\n",
       "       2, 0, 3, 3, 3, 0, 1, 0, 3, 2, 2, 1, 3, 1, 2, 1, 1, 1, 0, 2, 1, 1,\n",
       "       0, 3, 3, 1, 2, 2, 2, 2, 0, 3, 1, 2, 0, 0, 1, 1, 3, 1, 1, 3, 0, 0,\n",
       "       0, 3, 0, 0, 3, 3, 2, 3, 2, 0, 2, 0, 0, 2, 1])"
      ]
     },
     "execution_count": 114,
     "metadata": {},
     "output_type": "execute_result"
    }
   ],
   "source": [
    "best_RF_model.predict(X_test)"
   ]
  },
  {
   "cell_type": "code",
   "execution_count": null,
   "id": "0759983a",
   "metadata": {},
   "outputs": [
    {
     "data": {
      "text/plain": [
       "0.8747252747252747"
      ]
     },
     "execution_count": 115,
     "metadata": {},
     "output_type": "execute_result"
    }
   ],
   "source": [
    "best_RF_model.score(X_test,y_test)"
   ]
  },
  {
   "cell_type": "markdown",
   "id": "a7d17c77",
   "metadata": {},
   "source": [
    "#### Part 3.2.4 : Gradient Boosting"
   ]
  },
  {
   "cell_type": "code",
   "execution_count": null,
   "id": "aabea0ff",
   "metadata": {},
   "outputs": [
    {
     "data": {
      "text/plain": [
       "'\\nparameters = {\\n    \"loss\":[\"deviance\"],\\n    \"learning_rate\": [0.01, 0.025, 0.05, 0.1, 0.2],\\n    \"min_samples_split\": np.linspace(0.1, 0.5, 12),\\n    \"min_samples_leaf\": np.linspace(0.1, 0.5, 12),\\n    \"max_depth\":[3,5,8],\\n    \"max_features\":[\"log2\",\"sqrt\"],\\n    \"criterion\": [\"friedman_mse\",  \"mae\"],\\n    \"subsample\":[0.5, 0.8, 0.9,1.0],\\n    \"n_estimators\":[10]\\n    }\\nGrid_GB =  GridSearchCV(GradientBoostingClassifier(),parameters,cv=5)\\nGrid_GB.fit(X_train, y_train)\\n'"
      ]
     },
     "execution_count": 116,
     "metadata": {},
     "output_type": "execute_result"
    }
   ],
   "source": [
    "#TOOK TOO LONG ON MY PC. If you have a better pc go fot it. \n",
    "#future work : pyspark, aws \n",
    "'''\n",
    "parameters = {\n",
    "    \"loss\":[\"deviance\"],\n",
    "    \"learning_rate\": [0.01, 0.025, 0.05, 0.1, 0.2],\n",
    "    \"min_samples_split\": np.linspace(0.1, 0.5, 12),\n",
    "    \"min_samples_leaf\": np.linspace(0.1, 0.5, 12),\n",
    "    \"max_depth\":[3,5,8],\n",
    "    \"max_features\":[\"log2\",\"sqrt\"],\n",
    "    \"criterion\": [\"friedman_mse\",  \"mae\"],\n",
    "    \"subsample\":[0.5, 0.8, 0.9,1.0],\n",
    "    \"n_estimators\":[10]\n",
    "    }\n",
    "Grid_GB =  GridSearchCV(GradientBoostingClassifier(),parameters,cv=5)\n",
    "Grid_GB.fit(X_train, y_train)\n",
    "'''"
   ]
  },
  {
   "cell_type": "code",
   "execution_count": null,
   "id": "f20d81d6",
   "metadata": {},
   "outputs": [],
   "source": [
    "#print_grid_search_metrics(Grid_GB)"
   ]
  },
  {
   "cell_type": "code",
   "execution_count": null,
   "id": "9779a0ea",
   "metadata": {},
   "outputs": [],
   "source": [
    "#best_GB_model = Grid_GB.best_estimator_"
   ]
  },
  {
   "cell_type": "code",
   "execution_count": null,
   "id": "f5d48aad",
   "metadata": {},
   "outputs": [],
   "source": [
    "#best_GB_model.predict(X_test)"
   ]
  },
  {
   "cell_type": "code",
   "execution_count": null,
   "id": "9e2c8450",
   "metadata": {},
   "outputs": [],
   "source": [
    "#best_GB_model.score(X_test,y_test)"
   ]
  },
  {
   "cell_type": "markdown",
   "id": "ac08a206",
   "metadata": {},
   "source": [
    "### Part 3.3: Confusion Matrix"
   ]
  },
  {
   "cell_type": "code",
   "execution_count": null,
   "id": "cea6697f",
   "metadata": {},
   "outputs": [],
   "source": [
    "from sklearn.metrics import confusion_matrix\n",
    "from sklearn.metrics import classification_report\n",
    "from sklearn.metrics import precision_score\n",
    "from sklearn.metrics import recall_score\n",
    "\n",
    "def cal_evaluation(classifier,cm):\n",
    "    tn = cm[0][0]\n",
    "    tp = cm[1][1]\n",
    "    fp = cm[0][1]\n",
    "    fn = cm[1][0]\n",
    "    accuracy = (tp + tn)/ (tp + fp + fn + tn + 0.0)\n",
    "    precision = tp/ (tp + fp + 0.0)\n",
    "    recall = tp / (tp + fn + 0.0)\n",
    "    print(classifier)\n",
    "    print('Accuracy is: ' + str(accuracy))\n",
    "    print('Precision is: ' + str(precision))\n",
    "    print('Recall is: ' + str(recall))\n",
    "    print()\n",
    "    \n",
    "    \n",
    "def draw_confusion_matrices(confusion_matrices):\n",
    "    for cm in confusion_matrices:\n",
    "        classifier,cm = cm[0],cm[1]\n",
    "        cal_evaluation(classifier,cm)"
   ]
  },
  {
   "cell_type": "code",
   "execution_count": null,
   "id": "94e54971",
   "metadata": {},
   "outputs": [
    {
     "name": "stdout",
     "output_type": "stream",
     "text": [
      "Random Forest\n",
      "Accuracy is: 0.963302752293578\n",
      "Precision is: 0.9619047619047619\n",
      "Recall is: 0.9619047619047619\n",
      "\n",
      "Logistic Regression\n",
      "Accuracy is: 0.964824120603015\n",
      "Precision is: 0.9647058823529412\n",
      "Recall is: 0.9534883720930233\n",
      "\n",
      "K nearest neighbor\n",
      "Accuracy is: 0.7916666666666666\n",
      "Precision is: 0.803030303030303\n",
      "Recall is: 0.6625\n",
      "\n"
     ]
    }
   ],
   "source": [
    "confusion_matrices = [\n",
    "    (\"Random Forest\", confusion_matrix(y_test,best_RF_model.predict(X_test))),\n",
    "    (\"Logistic Regression\", confusion_matrix(y_test,best_LR_model.predict(X_test))),\n",
    "    (\"K nearest neighbor\", confusion_matrix(y_test,best_KNN_model.predict(X_test)))\n",
    "    #,(\"Gradient Boosting\", confusion_matrix(y_test,best_GB_model.predict(X_test)))\n",
    "]\n",
    "draw_confusion_matrices(confusion_matrices)\n",
    "\n",
    "# Combine defintion of cm scores"
   ]
  },
  {
   "cell_type": "markdown",
   "id": "15e59890",
   "metadata": {},
   "source": [
    "## Part 4: Model Extra Functionality: Feature Importance"
   ]
  },
  {
   "cell_type": "markdown",
   "id": "cf41958c",
   "metadata": {},
   "source": [
    "### Part 4.1: Logistic Regression"
   ]
  },
  {
   "cell_type": "code",
   "execution_count": null,
   "id": "0111b55a",
   "metadata": {},
   "outputs": [
    {
     "name": "stdout",
     "output_type": "stream",
     "text": [
      "Logistic Regression (L1) Coeffients\n",
      "\n",
      "C is 0.1\n",
      "ram : -5.6419\n",
      "pixel_size : -1.29\n",
      "battery_power : -1.2568\n",
      "mobile_wt : 0.0171\n",
      "touch_screen : 0.0\n",
      "three_g : 0.0\n",
      "talk_time : 0.0\n",
      "wifi : 0.0\n",
      "pc : 0.0\n",
      "n_cores : 0.0\n",
      "sc_size : 0.0\n",
      "m_dep : 0.0\n",
      "int_memory : 0.0\n",
      "four_g : 0.0\n",
      "fc : 0.0\n",
      "dual_sim : 0.0\n",
      "clock_speed : 0.0\n",
      "blue : 0.0\n",
      "Logistic Regression (L1) Coeffients\n",
      "\n",
      "C is 0.2\n",
      "ram : -7.609\n",
      "pixel_size : -1.7828\n",
      "battery_power : -1.7727\n",
      "mobile_wt : 0.118\n",
      "int_memory : -0.0625\n",
      "dual_sim : 0.0384\n",
      "three_g : 0.0127\n",
      "fc : -0.0113\n",
      "m_dep : -0.0092\n",
      "touch_screen : 0.0029\n",
      "talk_time : 0.0\n",
      "wifi : 0.0\n",
      "pc : 0.0\n",
      "n_cores : 0.0\n",
      "sc_size : 0.0\n",
      "four_g : 0.0\n",
      "clock_speed : 0.0\n",
      "blue : 0.0\n",
      "Logistic Regression (L1) Coeffients\n",
      "\n",
      "C is 0.3\n",
      "ram : -8.9676\n",
      "pixel_size : -2.1223\n",
      "battery_power : -2.121\n",
      "mobile_wt : 0.1793\n",
      "int_memory : -0.095\n",
      "dual_sim : 0.0682\n",
      "three_g : 0.0615\n",
      "fc : -0.0406\n",
      "m_dep : -0.028\n",
      "touch_screen : 0.0254\n",
      "sc_size : 0.0194\n",
      "blue : 0.0004\n",
      "talk_time : 0.0\n",
      "wifi : 0.0\n",
      "pc : 0.0\n",
      "n_cores : 0.0\n",
      "four_g : 0.0\n",
      "clock_speed : 0.0\n",
      "Logistic Regression (L1) Coeffients\n",
      "\n",
      "C is 0.4\n",
      "ram : -10.0411\n",
      "battery_power : -2.3932\n",
      "pixel_size : -2.3875\n",
      "mobile_wt : 0.2222\n",
      "int_memory : -0.1214\n",
      "three_g : 0.1002\n",
      "dual_sim : 0.0893\n",
      "fc : -0.0618\n",
      "touch_screen : 0.0407\n",
      "sc_size : 0.0391\n",
      "m_dep : -0.0381\n",
      "blue : 0.0187\n",
      "talk_time : 0.0177\n",
      "wifi : 0.0\n",
      "pc : 0.0\n",
      "n_cores : 0.0\n",
      "four_g : 0.0\n",
      "clock_speed : 0.0\n",
      "Logistic Regression (L1) Coeffients\n",
      "\n",
      "C is 0.5\n",
      "ram : -10.9456\n",
      "battery_power : -2.6214\n",
      "pixel_size : -2.6089\n",
      "mobile_wt : 0.2554\n",
      "int_memory : -0.1447\n",
      "three_g : 0.1335\n",
      "dual_sim : 0.1075\n",
      "fc : -0.0791\n",
      "touch_screen : 0.0528\n",
      "sc_size : 0.0513\n",
      "talk_time : 0.0503\n",
      "m_dep : -0.0442\n",
      "blue : 0.0296\n",
      "wifi : 0.0\n",
      "pc : 0.0\n",
      "n_cores : 0.0\n",
      "four_g : 0.0\n",
      "clock_speed : 0.0\n",
      "Logistic Regression (L1) Coeffients\n",
      "\n",
      "C is 0.6\n",
      "ram : -11.7217\n",
      "battery_power : -2.8159\n",
      "pixel_size : -2.7987\n",
      "mobile_wt : 0.2826\n",
      "int_memory : -0.1652\n",
      "three_g : 0.162\n",
      "dual_sim : 0.1233\n",
      "fc : -0.0924\n",
      "talk_time : 0.0792\n",
      "touch_screen : 0.064\n",
      "sc_size : 0.0602\n",
      "m_dep : -0.0481\n",
      "blue : 0.0364\n",
      "wifi : 0.0115\n",
      "pc : 0.0\n",
      "n_cores : 0.0\n",
      "four_g : 0.0\n",
      "clock_speed : 0.0\n",
      "Logistic Regression (L1) Coeffients\n",
      "\n",
      "C is 0.7\n",
      "ram : -12.4097\n",
      "battery_power : -2.9877\n",
      "pixel_size : -2.967\n",
      "mobile_wt : 0.3058\n",
      "three_g : 0.1873\n",
      "int_memory : -0.1833\n",
      "dual_sim : 0.1373\n",
      "talk_time : 0.1048\n",
      "fc : -0.1035\n",
      "touch_screen : 0.0739\n",
      "sc_size : 0.0671\n",
      "m_dep : -0.0509\n",
      "blue : 0.0408\n",
      "wifi : 0.0248\n",
      "pc : 0.0\n",
      "n_cores : 0.0\n",
      "four_g : 0.0\n",
      "clock_speed : 0.0\n",
      "Logistic Regression (L1) Coeffients\n",
      "\n",
      "C is 0.8\n",
      "ram : -13.0178\n",
      "battery_power : -3.1392\n",
      "pixel_size : -3.1158\n",
      "mobile_wt : 0.326\n",
      "three_g : 0.2098\n",
      "int_memory : -0.1993\n",
      "dual_sim : 0.1496\n",
      "talk_time : 0.1272\n",
      "fc : -0.1129\n",
      "touch_screen : 0.0825\n",
      "sc_size : 0.0728\n",
      "m_dep : -0.0533\n",
      "blue : 0.0436\n",
      "wifi : 0.0359\n",
      "pc : 0.0\n",
      "n_cores : 0.0\n",
      "four_g : 0.0\n",
      "clock_speed : 0.0\n",
      "Logistic Regression (L1) Coeffients\n",
      "\n",
      "C is 0.9\n",
      "ram : -13.5712\n",
      "battery_power : -3.2769\n",
      "pixel_size : -3.2513\n",
      "mobile_wt : 0.3442\n",
      "three_g : 0.2302\n",
      "int_memory : -0.2139\n",
      "dual_sim : 0.1606\n",
      "talk_time : 0.1473\n",
      "fc : -0.1214\n",
      "touch_screen : 0.0901\n",
      "sc_size : 0.0775\n",
      "m_dep : -0.0555\n",
      "wifi : 0.0455\n",
      "blue : 0.0453\n",
      "pc : 0.0\n",
      "n_cores : 0.0\n",
      "four_g : 0.0\n",
      "clock_speed : 0.0\n"
     ]
    }
   ],
   "source": [
    "#L1\n",
    "# For L1, remove feature with 0 coff\n",
    "\n",
    "\n",
    "X_2 = X.copy()\n",
    "scaler = StandardScaler()\n",
    "X_l1 = scaler.fit_transform(X_2)\n",
    "\n",
    "for i in range(1,10):\n",
    "    LRmodel_l1 = LogisticRegression(penalty = 'l1', C = i/10,solver = 'liblinear', random_state = 1)\n",
    "    LRmodel_l1.fit(X_l1,y)\n",
    "    indicies = np.argsort(abs(LRmodel_l1.coef_[0]))[::-1]\n",
    "    print(\"Logistic Regression (L1) Coeffients\\n\")\n",
    "    print(\"C is {}\".format(i/10))\n",
    "    for ind in range(X_2.shape[1]):\n",
    "        print(\"{0} : {1}\".format(X_2.columns[indicies[ind]], round(LRmodel_l1.coef_[0][indicies[ind]], 4)))\n",
    "\n",
    "#LRmodel_l1 = LogisticRegression(penalty = 'l1', C = 1,solver = 'liblinear', random_state = 1)\n",
    "#LRmodel_l1.fit(X_l1,y)\n",
    "\n",
    "#indicies = np.argsort(abs(LRmodel_l1.coef_[0]))[::-1]\n",
    "\n",
    "#print(\"Logistic Regression (L1) Coeffients\")\n",
    "#for ind in range(X_2.shape[1]):\n",
    "    #print(\"{0} : {1}\".format(X_2.columns[indicies[ind]], round(LRmodel_l1.coef_[0][indicies[ind]], 4)))"
   ]
  },
  {
   "cell_type": "code",
   "execution_count": null,
   "id": "8f47adb7",
   "metadata": {},
   "outputs": [
    {
     "name": "stdout",
     "output_type": "stream",
     "text": [
      "Logistic Regression (L2) Coeffients\n",
      "ram : -3.431\n",
      "pixel_size : -0.865\n",
      "battery_power : -0.8092\n",
      "int_memory : -0.082\n",
      "n_cores : 0.0778\n",
      "mobile_wt : 0.0774\n",
      "m_dep : -0.0745\n",
      "clock_speed : 0.0694\n",
      "talk_time : -0.0593\n",
      "fc : -0.0547\n",
      "touch_screen : 0.0514\n",
      "dual_sim : 0.0482\n",
      "sc_size : 0.0303\n",
      "four_g : -0.0272\n",
      "three_g : 0.0226\n",
      "wifi : -0.0202\n",
      "pc : 0.0186\n",
      "blue : 0.0171\n"
     ]
    }
   ],
   "source": [
    "#L2\n",
    "X_2 = X.copy()\n",
    "scaler = StandardScaler()\n",
    "X_l2 = scaler.fit_transform(X_2)\n",
    "LRmodel_l2 = LogisticRegression(penalty = 'l2', C = 0.1, solver = 'liblinear', random_state = 1)\n",
    "LRmodel_l2.fit(X_l1,y)\n",
    "\n",
    "indicies = np.argsort(abs(LRmodel_l2.coef_[0]))[::-1]\n",
    "\n",
    "print(\"Logistic Regression (L2) Coeffients\")\n",
    "for ind in range(X_2.shape[1]):\n",
    "    print(\"{0} : {1}\".format(X_2.columns[indicies[ind]], round(LRmodel_l2.coef_[0][indicies[ind]], 4)))"
   ]
  },
  {
   "cell_type": "code",
   "execution_count": null,
   "id": "b943f72a",
   "metadata": {},
   "outputs": [],
   "source": [
    "# We can consider dropping m_dep, pc, n_cores"
   ]
  },
  {
   "cell_type": "markdown",
   "id": "e8c6cf10",
   "metadata": {},
   "source": [
    "### Part 4.2: Random Forest"
   ]
  },
  {
   "cell_type": "code",
   "execution_count": null,
   "id": "a7449a43",
   "metadata": {},
   "outputs": [
    {
     "name": "stdout",
     "output_type": "stream",
     "text": [
      "Feature importance ranking by Random Forest Model: \n",
      "ram : 0.5018\n",
      "pixel_size : 0.0804\n",
      "battery_power : 0.0796\n",
      "mobile_wt : 0.0447\n",
      "sc_size : 0.0413\n",
      "int_memory : 0.039\n",
      "pc : 0.0321\n",
      "talk_time : 0.0315\n",
      "clock_speed : 0.0302\n",
      "fc : 0.0273\n",
      "m_dep : 0.0263\n",
      "n_cores : 0.0251\n",
      "dual_sim : 0.0079\n",
      "touch_screen : 0.0069\n",
      "wifi : 0.0068\n",
      "blue : 0.0068\n",
      "four_g : 0.0065\n",
      "three_g : 0.0058\n"
     ]
    }
   ],
   "source": [
    "X_RF = X.copy()\n",
    "forest = RandomForestClassifier()\n",
    "forest.fit(X_RF,y)\n",
    "\n",
    "importances = forest.feature_importances_\n",
    "\n",
    "indicies = np.argsort(importances)[::-1]\n",
    "\n",
    "print(\"Feature importance ranking by Random Forest Model: \")\n",
    "for ind in range(X.shape[1]):\n",
    "    print(\"{0} : {1}\".format(X_RF.columns[indicies[ind]], round(importances[indicies[ind]],4)))"
   ]
  },
  {
   "cell_type": "markdown",
   "id": "1899fd4d",
   "metadata": {},
   "source": [
    "### Part 5: model imporvement"
   ]
  },
  {
   "cell_type": "code",
   "execution_count": 51,
   "id": "0cd0583d",
   "metadata": {},
   "outputs": [],
   "source": [
    "from sklearn.model_selection import KFold\n",
    "from sklearn.metrics import mean_absolute_error\n",
    "import matplotlib.pyplot as plt\n",
    "\n",
    "\n",
    "model = best_LR_model\n",
    "\n",
    "def test_model(model, X, y):\n",
    "    mae_train = []\n",
    "    mae_test = []\n",
    "    y_train_pred = model.predict(X_train)\n",
    "    y_test_pred = model.predict(X_test)\n",
    "    mae_train.append(mean_absolute_error(y_train, y_train_pred))\n",
    "    mae_test.append(mean_absolute_error(y_test, y_test_pred))\n",
    "\n",
    "    plt.plot(mae_train, 'o-', color='green', label='train')\n",
    "    plt.plot(mae_test, 'o-', color='red', label='test')\n",
    "    plt.legend()\n",
    "    plt.grid()\n",
    "    plt.xlabel('Number of fold')\n",
    "    plt.ylabel('Mean Absolute Error')\n",
    "    plt.show()"
   ]
  },
  {
   "cell_type": "code",
   "execution_count": 52,
   "id": "f2c84faa",
   "metadata": {},
   "outputs": [
    {
     "data": {
      "image/png": "[encoded data removed]",
      "text/plain": [
       "<Figure size 432x288 with 1 Axes>"
      ]
     },
     "metadata": {},
     "output_type": "display_data"
    }
   ],
   "source": [
    "test_model(model, X, y)"
   ]
  },
  {
   "cell_type": "code",
   "execution_count": 53,
   "id": "aa10b660",
   "metadata": {},
   "outputs": [],
   "source": [
    "kf = KFold(n_splits=5)\n",
    "mae_train = []\n",
    "mae_test = []\n",
    "for train_index, test_index in kf.split(X):\n",
    "    \n",
    "   X_train, X_test = X.iloc[train_index], X.iloc[test_index]\n",
    "   y_train, y_test = y[train_index], y[test_index]\n",
    "   model = KNeighborsClassifier(n_neighbors=2)\n",
    "   model.fit(X_train, y_train)\n",
    "   y_train_pred = model.predict(X_train)\n",
    "   y_test_pred = model.predict(X_test)\n",
    "   mae_train.append(mean_absolute_error(y_train, y_train_pred))\n",
    "   mae_test.append(mean_absolute_error(y_test, y_test_pred))"
   ]
  },
  {
   "cell_type": "code",
   "execution_count": 54,
   "id": "6f53184d",
   "metadata": {},
   "outputs": [
    {
     "data": {
      "image/png": "[encoded data removed]",
      "text/plain": [
       "<Figure size 432x288 with 1 Axes>"
      ]
     },
     "metadata": {},
     "output_type": "display_data"
    }
   ],
   "source": [
    "plt.plot(mae_train, 'o-', color='green', label='train')\n",
    "plt.plot(mae_test, 'o-', color='red', label='test')\n",
    "plt.legend()\n",
    "plt.grid()\n",
    "plt.xlabel('Number of fold')\n",
    "plt.ylabel('Mean Absolute Error')\n",
    "plt.show()"
   ]
  },
  {
   "cell_type": "code",
   "execution_count": null,
   "id": "d446e862",
   "metadata": {},
   "outputs": [],
   "source": []
  }
 ],
 "metadata": {
  "kernelspec": {
   "display_name": "Python 3 (ipykernel)",
   "language": "python",
   "name": "python3"
  },
  "language_info": {
   "codemirror_mode": {
    "name": "ipython",
    "version": 3
   },
   "file_extension": ".py",
   "mimetype": "text/x-python",
   "name": "python",
   "nbconvert_exporter": "python",
   "pygments_lexer": "ipython3",
   "version": "3.8.8"
  }
 },
 "nbformat": 4,
 "nbformat_minor": 5
}
